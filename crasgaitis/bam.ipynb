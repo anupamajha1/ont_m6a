{
 "cells": [
  {
   "cell_type": "code",
   "execution_count": 13,
   "metadata": {},
   "outputs": [
    {
     "ename": "OSError",
     "evalue": "Samtools must be installed for BAM file support!\n",
     "output_type": "error",
     "traceback": [
      "\u001b[1;31m---------------------------------------------------------------------------\u001b[0m",
      "\u001b[1;31mFileNotFoundError\u001b[0m                         Traceback (most recent call last)",
      "File \u001b[1;32mc:\\Users\\Cat\\AppData\\Local\\Programs\\Python\\Python310\\lib\\site-packages\\simplesam.py:113\u001b[0m, in \u001b[0;36mReader._bam_init\u001b[1;34m(self, f, regions)\u001b[0m\n\u001b[0;32m    112\u001b[0m \u001b[39mtry\u001b[39;00m:\n\u001b[1;32m--> 113\u001b[0m     p \u001b[39m=\u001b[39m Popen(pline, bufsize\u001b[39m=\u001b[39;49m\u001b[39m-\u001b[39;49m\u001b[39m1\u001b[39;49m, stdout\u001b[39m=\u001b[39;49mPIPE,\n\u001b[0;32m    114\u001b[0m               stderr\u001b[39m=\u001b[39;49mPIPE)\n\u001b[0;32m    115\u001b[0m \u001b[39mexcept\u001b[39;00m \u001b[39mOSError\u001b[39;00m:\n",
      "File \u001b[1;32mc:\\Users\\Cat\\AppData\\Local\\Programs\\Python\\Python310\\lib\\subprocess.py:969\u001b[0m, in \u001b[0;36mPopen.__init__\u001b[1;34m(self, args, bufsize, executable, stdin, stdout, stderr, preexec_fn, close_fds, shell, cwd, env, universal_newlines, startupinfo, creationflags, restore_signals, start_new_session, pass_fds, user, group, extra_groups, encoding, errors, text, umask, pipesize)\u001b[0m\n\u001b[0;32m    966\u001b[0m             \u001b[39mself\u001b[39m\u001b[39m.\u001b[39mstderr \u001b[39m=\u001b[39m io\u001b[39m.\u001b[39mTextIOWrapper(\u001b[39mself\u001b[39m\u001b[39m.\u001b[39mstderr,\n\u001b[0;32m    967\u001b[0m                     encoding\u001b[39m=\u001b[39mencoding, errors\u001b[39m=\u001b[39merrors)\n\u001b[1;32m--> 969\u001b[0m     \u001b[39mself\u001b[39;49m\u001b[39m.\u001b[39;49m_execute_child(args, executable, preexec_fn, close_fds,\n\u001b[0;32m    970\u001b[0m                         pass_fds, cwd, env,\n\u001b[0;32m    971\u001b[0m                         startupinfo, creationflags, shell,\n\u001b[0;32m    972\u001b[0m                         p2cread, p2cwrite,\n\u001b[0;32m    973\u001b[0m                         c2pread, c2pwrite,\n\u001b[0;32m    974\u001b[0m                         errread, errwrite,\n\u001b[0;32m    975\u001b[0m                         restore_signals,\n\u001b[0;32m    976\u001b[0m                         gid, gids, uid, umask,\n\u001b[0;32m    977\u001b[0m                         start_new_session)\n\u001b[0;32m    978\u001b[0m \u001b[39mexcept\u001b[39;00m:\n\u001b[0;32m    979\u001b[0m     \u001b[39m# Cleanup if the child failed starting.\u001b[39;00m\n",
      "File \u001b[1;32mc:\\Users\\Cat\\AppData\\Local\\Programs\\Python\\Python310\\lib\\subprocess.py:1438\u001b[0m, in \u001b[0;36mPopen._execute_child\u001b[1;34m(self, args, executable, preexec_fn, close_fds, pass_fds, cwd, env, startupinfo, creationflags, shell, p2cread, p2cwrite, c2pread, c2pwrite, errread, errwrite, unused_restore_signals, unused_gid, unused_gids, unused_uid, unused_umask, unused_start_new_session)\u001b[0m\n\u001b[0;32m   1437\u001b[0m \u001b[39mtry\u001b[39;00m:\n\u001b[1;32m-> 1438\u001b[0m     hp, ht, pid, tid \u001b[39m=\u001b[39m _winapi\u001b[39m.\u001b[39;49mCreateProcess(executable, args,\n\u001b[0;32m   1439\u001b[0m                              \u001b[39m# no special security\u001b[39;49;00m\n\u001b[0;32m   1440\u001b[0m                              \u001b[39mNone\u001b[39;49;00m, \u001b[39mNone\u001b[39;49;00m,\n\u001b[0;32m   1441\u001b[0m                              \u001b[39mint\u001b[39;49m(\u001b[39mnot\u001b[39;49;00m close_fds),\n\u001b[0;32m   1442\u001b[0m                              creationflags,\n\u001b[0;32m   1443\u001b[0m                              env,\n\u001b[0;32m   1444\u001b[0m                              cwd,\n\u001b[0;32m   1445\u001b[0m                              startupinfo)\n\u001b[0;32m   1446\u001b[0m \u001b[39mfinally\u001b[39;00m:\n\u001b[0;32m   1447\u001b[0m     \u001b[39m# Child is launched. Close the parent's copy of those pipe\u001b[39;00m\n\u001b[0;32m   1448\u001b[0m     \u001b[39m# handles that only the child should have open.  You need\u001b[39;00m\n\u001b[1;32m   (...)\u001b[0m\n\u001b[0;32m   1451\u001b[0m     \u001b[39m# pipe will not close when the child process exits and the\u001b[39;00m\n\u001b[0;32m   1452\u001b[0m     \u001b[39m# ReadFile will hang.\u001b[39;00m\n",
      "\u001b[1;31mFileNotFoundError\u001b[0m: [WinError 2] The system cannot find the file specified",
      "\nDuring handling of the above exception, another exception occurred:\n",
      "\u001b[1;31mOSError\u001b[0m                                   Traceback (most recent call last)",
      "\u001b[1;32mc:\\Users\\Cat\\OneDrive\\Documents\\ont_m6a\\crasgaitis\\bam.ipynb Cell 1\u001b[0m line \u001b[0;36m7\n\u001b[0;32m      <a href='vscode-notebook-cell:/c%3A/Users/Cat/OneDrive/Documents/ont_m6a/crasgaitis/bam.ipynb#W0sZmlsZQ%3D%3D?line=3'>4</a>\u001b[0m bam_file_path \u001b[39m=\u001b[39m \u001b[39mr\u001b[39m\u001b[39m'\u001b[39m\u001b[39mC:\u001b[39m\u001b[39m\\\u001b[39m\u001b[39mUsers\u001b[39m\u001b[39m\\\u001b[39m\u001b[39mCat\u001b[39m\u001b[39m\\\u001b[39m\u001b[39mOneDrive\u001b[39m\u001b[39m\\\u001b[39m\u001b[39mDocuments\u001b[39m\u001b[39m\\\u001b[39m\u001b[39mont_m6a\u001b[39m\u001b[39m\\\u001b[39m\u001b[39mdata\u001b[39m\u001b[39m\\\u001b[39m\u001b[39mHG002_2_training.bam\u001b[39m\u001b[39m'\u001b[39m\n\u001b[0;32m      <a href='vscode-notebook-cell:/c%3A/Users/Cat/OneDrive/Documents/ont_m6a/crasgaitis/bam.ipynb#W0sZmlsZQ%3D%3D?line=5'>6</a>\u001b[0m \u001b[39m# Open the BAM file for reading\u001b[39;00m\n\u001b[1;32m----> <a href='vscode-notebook-cell:/c%3A/Users/Cat/OneDrive/Documents/ont_m6a/crasgaitis/bam.ipynb#W0sZmlsZQ%3D%3D?line=6'>7</a>\u001b[0m \u001b[39mwith\u001b[39;00m simplesam\u001b[39m.\u001b[39;49mReader(\u001b[39mopen\u001b[39;49m(bam_file_path, \u001b[39m'\u001b[39;49m\u001b[39mrb\u001b[39;49m\u001b[39m'\u001b[39;49m)) \u001b[39mas\u001b[39;00m bamfile:\n\u001b[0;32m      <a href='vscode-notebook-cell:/c%3A/Users/Cat/OneDrive/Documents/ont_m6a/crasgaitis/bam.ipynb#W0sZmlsZQ%3D%3D?line=7'>8</a>\u001b[0m     \u001b[39m# Iterate through the alignments in the BAM file\u001b[39;00m\n\u001b[0;32m      <a href='vscode-notebook-cell:/c%3A/Users/Cat/OneDrive/Documents/ont_m6a/crasgaitis/bam.ipynb#W0sZmlsZQ%3D%3D?line=8'>9</a>\u001b[0m     \u001b[39mfor\u001b[39;00m alignment \u001b[39min\u001b[39;00m bamfile:\n\u001b[0;32m     <a href='vscode-notebook-cell:/c%3A/Users/Cat/OneDrive/Documents/ont_m6a/crasgaitis/bam.ipynb#W0sZmlsZQ%3D%3D?line=9'>10</a>\u001b[0m         \u001b[39m# Access information about the alignment\u001b[39;00m\n\u001b[0;32m     <a href='vscode-notebook-cell:/c%3A/Users/Cat/OneDrive/Documents/ont_m6a/crasgaitis/bam.ipynb#W0sZmlsZQ%3D%3D?line=10'>11</a>\u001b[0m         \u001b[39mprint\u001b[39m(\u001b[39m\"\u001b[39m\u001b[39mQNAME:\u001b[39m\u001b[39m\"\u001b[39m, alignment\u001b[39m.\u001b[39mqname)\n",
      "File \u001b[1;32mc:\\Users\\Cat\\AppData\\Local\\Programs\\Python\\Python310\\lib\\site-packages\\simplesam.py:70\u001b[0m, in \u001b[0;36mReader.__init__\u001b[1;34m(self, f, regions, kind, samtools_path)\u001b[0m\n\u001b[0;32m     68\u001b[0m     \u001b[39mself\u001b[39m\u001b[39m.\u001b[39m_sam_init(f)\n\u001b[0;32m     69\u001b[0m \u001b[39melif\u001b[39;00m (ext \u001b[39mis\u001b[39;00m \u001b[39mnot\u001b[39;00m \u001b[39mNone\u001b[39;00m \u001b[39mand\u001b[39;00m ext\u001b[39m.\u001b[39mlower()) \u001b[39m==\u001b[39m \u001b[39m'\u001b[39m\u001b[39m.bam\u001b[39m\u001b[39m'\u001b[39m \u001b[39mor\u001b[39;00m (kind \u001b[39mis\u001b[39;00m \u001b[39mnot\u001b[39;00m \u001b[39mNone\u001b[39;00m \u001b[39mand\u001b[39;00m kind\u001b[39m.\u001b[39mlower() \u001b[39m==\u001b[39m \u001b[39m'\u001b[39m\u001b[39mbam\u001b[39m\u001b[39m'\u001b[39m):\n\u001b[1;32m---> 70\u001b[0m     \u001b[39mself\u001b[39;49m\u001b[39m.\u001b[39;49m_bam_init(f, regions)\n\u001b[0;32m     71\u001b[0m     \u001b[39mself\u001b[39m\u001b[39m.\u001b[39mtype \u001b[39m=\u001b[39m \u001b[39m'\u001b[39m\u001b[39mbam\u001b[39m\u001b[39m'\u001b[39m\n\u001b[0;32m     72\u001b[0m \u001b[39melif\u001b[39;00m (ext \u001b[39mis\u001b[39;00m \u001b[39mnot\u001b[39;00m \u001b[39mNone\u001b[39;00m \u001b[39mand\u001b[39;00m ext\u001b[39m.\u001b[39mlower()) \u001b[39m==\u001b[39m \u001b[39m'\u001b[39m\u001b[39m.sam\u001b[39m\u001b[39m'\u001b[39m \u001b[39mor\u001b[39;00m (kind \u001b[39mis\u001b[39;00m \u001b[39mnot\u001b[39;00m \u001b[39mNone\u001b[39;00m \u001b[39mand\u001b[39;00m kind\u001b[39m.\u001b[39mlower() \u001b[39m==\u001b[39m \u001b[39m'\u001b[39m\u001b[39msam\u001b[39m\u001b[39m'\u001b[39m):\n",
      "File \u001b[1;32mc:\\Users\\Cat\\AppData\\Local\\Programs\\Python\\Python310\\lib\\site-packages\\simplesam.py:116\u001b[0m, in \u001b[0;36mReader._bam_init\u001b[1;34m(self, f, regions)\u001b[0m\n\u001b[0;32m    113\u001b[0m     p \u001b[39m=\u001b[39m Popen(pline, bufsize\u001b[39m=\u001b[39m\u001b[39m-\u001b[39m\u001b[39m1\u001b[39m, stdout\u001b[39m=\u001b[39mPIPE,\n\u001b[0;32m    114\u001b[0m               stderr\u001b[39m=\u001b[39mPIPE)\n\u001b[0;32m    115\u001b[0m \u001b[39mexcept\u001b[39;00m \u001b[39mOSError\u001b[39;00m:\n\u001b[1;32m--> 116\u001b[0m     \u001b[39mraise\u001b[39;00m \u001b[39mOSError\u001b[39;00m(\u001b[39m'\u001b[39m\u001b[39mSamtools must be installed for BAM file support!\u001b[39m\u001b[39m\\n\u001b[39;00m\u001b[39m'\u001b[39m)\n\u001b[0;32m    117\u001b[0m \u001b[39mself\u001b[39m\u001b[39m.\u001b[39mheader_as_dict([line\u001b[39m.\u001b[39mdecode(\u001b[39m'\u001b[39m\u001b[39mutf-8\u001b[39m\u001b[39m'\u001b[39m)\u001b[39m.\u001b[39mrstrip(\u001b[39m'\u001b[39m\u001b[39m\\n\u001b[39;00m\u001b[39m\\r\u001b[39;00m\u001b[39m'\u001b[39m) \u001b[39mfor\u001b[39;00m line \u001b[39min\u001b[39;00m p\u001b[39m.\u001b[39mstdout])\n\u001b[0;32m    118\u001b[0m p\u001b[39m.\u001b[39mwait()\n",
      "\u001b[1;31mOSError\u001b[0m: Samtools must be installed for BAM file support!\n"
     ]
    }
   ],
   "source": [
    "import simplesam\n",
    "\n",
    "# Specify the path to your BAM file\n",
    "bam_file_path = r'C:\\Users\\Cat\\OneDrive\\Documents\\ont_m6a\\data\\HG002_2_training.bam'\n",
    "\n",
    "# Open the BAM file for reading\n",
    "with simplesam.Reader(open(bam_file_path, 'rb')) as bamfile:\n",
    "    # Iterate through the alignments in the BAM file\n",
    "    for alignment in bamfile:\n",
    "        # Access information about the alignment\n",
    "        print(\"QNAME:\", alignment.qname)\n",
    "        print(\"FLAG:\", alignment.flag)\n",
    "        print(\"RNAME:\", alignment.rname)\n",
    "        print(\"POS:\", alignment.pos)\n",
    "        print(\"MAPQ:\", alignment.mapq)\n",
    "        print(\"CIGAR:\", alignment.cigar)\n",
    "        print(\"RNEXT:\", alignment.rnext)\n",
    "        print(\"PNEXT:\", alignment.pnext)\n",
    "        print(\"TLEN:\", alignment.tlen)\n",
    "        print(\"SEQ:\", alignment.seq)\n",
    "        print(\"QUAL:\", alignment.qual)\n",
    "        print(\"Optional Fields:\", alignment.opt)\n",
    "\n",
    "# Make sure to close the BAM file when done\n",
    "bamfile.close()\n",
    "\n"
   ]
  }
 ],
 "metadata": {
  "kernelspec": {
   "display_name": "base",
   "language": "python",
   "name": "python3"
  },
  "language_info": {
   "codemirror_mode": {
    "name": "ipython",
    "version": 3
   },
   "file_extension": ".py",
   "mimetype": "text/x-python",
   "name": "python",
   "nbconvert_exporter": "python",
   "pygments_lexer": "ipython3",
   "version": "3.10.5"
  },
  "orig_nbformat": 4
 },
 "nbformat": 4,
 "nbformat_minor": 2
}
