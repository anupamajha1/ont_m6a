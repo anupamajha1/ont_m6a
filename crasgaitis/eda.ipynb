{
 "cells": [
  {
   "cell_type": "code",
   "execution_count": 1,
   "metadata": {},
   "outputs": [
    {
     "data": {
      "text/plain": [
       "['features', 'labels', 'read_ids']"
      ]
     },
     "execution_count": 1,
     "metadata": {},
     "output_type": "execute_result"
    }
   ],
   "source": [
    "import numpy as np\n",
    "train_set = np.load('../data/ml_data/HG002_2_3_00_train.npz')\n",
    "train_set.files"
   ]
  },
  {
   "cell_type": "code",
   "execution_count": 3,
   "metadata": {},
   "outputs": [
    {
     "data": {
      "text/plain": [
       "(5120000, 6, 15)"
      ]
     },
     "execution_count": 3,
     "metadata": {},
     "output_type": "execute_result"
    }
   ],
   "source": [
    "features = train_set['features']\n",
    "features.shape"
   ]
  },
  {
   "cell_type": "code",
   "execution_count": 14,
   "metadata": {},
   "outputs": [
    {
     "data": {
      "text/plain": [
       "array([[0.        , 0.        , 0.        , 0.        , 0.        ,\n",
       "        0.        , 0.        , 1.        , 1.        , 0.        ,\n",
       "        0.        , 1.        , 0.        , 0.        , 0.        ],\n",
       "       [0.        , 0.        , 0.        , 0.        , 0.        ,\n",
       "        0.        , 0.        , 0.        , 0.        , 0.        ,\n",
       "        0.        , 0.        , 1.        , 0.        , 0.        ],\n",
       "       [0.        , 1.        , 0.        , 0.        , 1.        ,\n",
       "        0.        , 0.        , 0.        , 0.        , 1.        ,\n",
       "        0.        , 0.        , 0.        , 0.        , 0.        ],\n",
       "       [1.        , 0.        , 1.        , 1.        , 0.        ,\n",
       "        1.        , 1.        , 0.        , 0.        , 0.        ,\n",
       "        1.        , 0.        , 0.        , 1.        , 1.        ],\n",
       "       [0.01568627, 0.01568627, 0.01960784, 0.02745098, 0.02745098,\n",
       "        0.01960784, 0.01568627, 0.01568627, 0.01568627, 0.01568627,\n",
       "        0.01568627, 0.01568627, 0.01960784, 0.02352941, 0.03137255],\n",
       "       [0.        , 0.        , 0.        , 0.        , 0.        ,\n",
       "        0.        , 0.        , 0.86666667, 0.78039216, 0.        ,\n",
       "        0.        , 0.56078431, 0.        , 0.        , 0.        ]])"
      ]
     },
     "execution_count": 14,
     "metadata": {},
     "output_type": "execute_result"
    }
   ],
   "source": [
    "features[0]\n",
    "\n",
    "# ACGT, base quality, m6a score (dorado output normalized)\n",
    "# left to right (7 before - central - 7 after)\n",
    "# 7 or less"
   ]
  },
  {
   "cell_type": "code",
   "execution_count": 9,
   "metadata": {},
   "outputs": [
    {
     "name": "stdout",
     "output_type": "stream",
     "text": [
      "0.00392156862745098\n",
      "0.19607843137254902\n"
     ]
    }
   ],
   "source": [
    "# compare base quality\n",
    "print(np.min(features[:, 4, :]))\n",
    "print(np.max(features[:, 4, :]))"
   ]
  },
  {
   "cell_type": "code",
   "execution_count": 11,
   "metadata": {},
   "outputs": [
    {
     "data": {
      "image/png": "[encoded data removed]",
      "text/plain": [
       "<Figure size 640x480 with 1 Axes>"
      ]
     },
     "metadata": {},
     "output_type": "display_data"
    }
   ],
   "source": [
    "import matplotlib.pyplot as plt\n",
    "\n",
    "data_to_plot = features[:, 4, :]\n",
    "\n",
    "plt.boxplot(data_to_plot)\n",
    "\n",
    "plt.xlabel('Base quality')\n",
    "plt.ylabel('Values')\n",
    "plt.title('Base quality range')\n",
    "\n",
    "ax = plt.gca()\n",
    "ax.spines['top'].set_visible(False)\n",
    "ax.spines['right'].set_visible(False)\n",
    "\n",
    "plt.show()"
   ]
  },
  {
   "cell_type": "code",
   "execution_count": 16,
   "metadata": {},
   "outputs": [
    {
     "data": {
      "text/plain": [
       "2616972"
      ]
     },
     "execution_count": 16,
     "metadata": {},
     "output_type": "execute_result"
    }
   ],
   "source": [
    "above_threshold_mask = features[:, 4, :] > 0.05\n",
    "all_above_threshold = np.all(above_threshold_mask, axis=1)\n",
    "np.sum(all_above_threshold)"
   ]
  },
  {
   "cell_type": "code",
   "execution_count": 18,
   "metadata": {},
   "outputs": [
    {
     "data": {
      "text/plain": [
       "51.112734375"
      ]
     },
     "execution_count": 18,
     "metadata": {},
     "output_type": "execute_result"
    }
   ],
   "source": [
    "2616972/5120000 * 100"
   ]
  },
  {
   "cell_type": "code",
   "execution_count": 14,
   "metadata": {},
   "outputs": [
    {
     "data": {
      "text/plain": [
       "(5120000,)"
      ]
     },
     "execution_count": 14,
     "metadata": {},
     "output_type": "execute_result"
    }
   ],
   "source": [
    "labels = train_set['labels']\n",
    "labels.shape"
   ]
  },
  {
   "cell_type": "code",
   "execution_count": 15,
   "metadata": {},
   "outputs": [
    {
     "data": {
      "text/plain": [
       "(array([0, 1]), array([2560000, 2560000]))"
      ]
     },
     "execution_count": 15,
     "metadata": {},
     "output_type": "execute_result"
    }
   ],
   "source": [
    "np.unique(labels, return_counts=True)\n",
    "# balanced dataset"
   ]
  },
  {
   "cell_type": "code",
   "execution_count": 12,
   "metadata": {},
   "outputs": [
    {
     "data": {
      "text/plain": [
       "(5120000,)"
      ]
     },
     "execution_count": 12,
     "metadata": {},
     "output_type": "execute_result"
    }
   ],
   "source": [
    "read_ids = train_set['read_ids']\n",
    "read_ids.shape"
   ]
  },
  {
   "cell_type": "code",
   "execution_count": 13,
   "metadata": {},
   "outputs": [
    {
     "name": "stdout",
     "output_type": "stream",
     "text": [
      "213836\n"
     ]
    },
    {
     "data": {
      "text/plain": [
       "array(['00001f28-63a9-44bf-8585-d7e23cad8efc',\n",
       "       '00005361-7da2-4a05-a62e-1794cb70db88',\n",
       "       '000140f5-10c8-45e0-8aad-30765d03cfcc', ...,\n",
       "       'fffef1e8-4f96-4460-8a52-c2e7b72c1c9b',\n",
       "       'ffff1f6a-61ee-4e0d-98fe-936c6e7f73a3',\n",
       "       'ffff8788-d23d-4289-aded-53e8cd0264fb'], dtype='<U36')"
      ]
     },
     "execution_count": 13,
     "metadata": {},
     "output_type": "execute_result"
    }
   ],
   "source": [
    "print(len(np.unique(read_ids)))\n",
    "np.unique(read_ids)"
   ]
  },
  {
   "cell_type": "code",
   "execution_count": 2,
   "metadata": {},
   "outputs": [],
   "source": [
    "# filtering\n",
    "\n",
    "def filter_set_by_base_quality(data, quality_threshold = 0.05, drop_base_quality = True):\n",
    "    features = data['features']\n",
    "    labels = data['labels']\n",
    "    \n",
    "    above_threshold_mask = features[:, 4, :] > quality_threshold\n",
    "    all_above_threshold_features = np.all(above_threshold_mask, axis=1)\n",
    "    \n",
    "    if drop_base_quality:\n",
    "        mask = np.arange(features.shape[1]) != 4\n",
    "        all_above_threshold_features = features[:, mask, :]\n",
    "        \n",
    "    all_above_threshold_labels = labels[all_above_threshold_features]\n",
    "    \n",
    "    return all_above_threshold_features, all_above_threshold_labels\n",
    "\n",
    "features, labels = filter_set_by_base_quality(train_set)"
   ]
  },
  {
   "cell_type": "code",
   "execution_count": null,
   "metadata": {},
   "outputs": [],
   "source": [
    "len(labels)"
   ]
  },
  {
   "cell_type": "code",
   "execution_count": null,
   "metadata": {},
   "outputs": [],
   "source": [
    "# basic lstm architecture\n",
    "import torch\n",
    "import torch.nn as nn\n",
    "\n",
    "class LSTMClassifier(nn.Module):\n",
    "    def __init__(self, input_dim, hidden_dim, output_dim, num_layers, bidirectional=False):\n",
    "        super(LSTMClassifier, self).__init__()\n",
    "        \n",
    "        # LSTM layer\n",
    "        self.lstm = nn.LSTM(input_dim, hidden_dim, num_layers=num_layers, bidirectional=bidirectional, batch_first=True)\n",
    "        \n",
    "        # Fully connected layer\n",
    "        self.fc = nn.Linear(hidden_dim * (2 if bidirectional else 1), output_dim)\n",
    "        \n",
    "    def forward(self, x):\n",
    "        out, _ = self.lstm(x)\n",
    "        out = out[:, -1, :]\n",
    "        out = self.fc(out)\n",
    "        \n",
    "        return out"
   ]
  }
 ],
 "metadata": {
  "kernelspec": {
   "display_name": "ont_m6a",
   "language": "python",
   "name": "python3"
  },
  "language_info": {
   "codemirror_mode": {
    "name": "ipython",
    "version": 3
   },
   "file_extension": ".py",
   "mimetype": "text/x-python",
   "name": "python",
   "nbconvert_exporter": "python",
   "pygments_lexer": "ipython3",
   "version": "3.8.16"
  },
  "orig_nbformat": 4
 },
 "nbformat": 4,
 "nbformat_minor": 2
}
