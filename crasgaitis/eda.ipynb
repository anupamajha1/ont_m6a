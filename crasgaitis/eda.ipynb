{
 "cells": [
  {
   "cell_type": "code",
   "execution_count": 1,
   "metadata": {},
   "outputs": [
    {
     "data": {
      "text/plain": [
       "['features', 'labels', 'read_ids']"
      ]
     },
     "execution_count": 1,
     "metadata": {},
     "output_type": "execute_result"
    }
   ],
   "source": [
    "import numpy as np\n",
    "train_set = np.load('../data/HG002_2_3_00_400k_train.npz')\n",
    "train_set.files"
   ]
  },
  {
   "cell_type": "code",
   "execution_count": 2,
   "metadata": {},
   "outputs": [
    {
     "data": {
      "text/plain": [
       "(256000, 6, 15)"
      ]
     },
     "execution_count": 2,
     "metadata": {},
     "output_type": "execute_result"
    }
   ],
   "source": [
    "features = train_set['features']\n",
    "features.shape"
   ]
  },
  {
   "cell_type": "code",
   "execution_count": 3,
   "metadata": {},
   "outputs": [
    {
     "data": {
      "text/plain": [
       "array([[0.        , 0.        , 0.        , 0.        , 0.        ,\n",
       "        0.        , 1.        , 1.        , 0.        , 0.        ,\n",
       "        0.        , 0.        , 0.        , 0.        , 0.        ],\n",
       "       [0.        , 0.        , 0.        , 0.        , 0.        ,\n",
       "        1.        , 0.        , 0.        , 1.        , 0.        ,\n",
       "        0.        , 0.        , 0.        , 0.        , 0.        ],\n",
       "       [0.        , 1.        , 0.        , 1.        , 0.        ,\n",
       "        0.        , 0.        , 0.        , 0.        , 0.        ,\n",
       "        0.        , 0.        , 1.        , 0.        , 0.        ],\n",
       "       [1.        , 0.        , 1.        , 0.        , 1.        ,\n",
       "        0.        , 0.        , 0.        , 0.        , 1.        ,\n",
       "        1.        , 1.        , 0.        , 1.        , 1.        ],\n",
       "       [0.16078431, 0.17647059, 0.16078431, 0.16078431, 0.19607843,\n",
       "        0.15686275, 0.15686275, 0.19607843, 0.19607843, 0.15686275,\n",
       "        0.16470588, 0.19607843, 0.15294118, 0.14901961, 0.19607843],\n",
       "       [0.        , 0.        , 0.        , 0.        , 0.        ,\n",
       "        0.        , 0.        , 0.10588235, 0.        , 0.        ,\n",
       "        0.        , 0.        , 0.        , 0.        , 0.        ]])"
      ]
     },
     "execution_count": 3,
     "metadata": {},
     "output_type": "execute_result"
    }
   ],
   "source": [
    "features[0]\n",
    "\n",
    "# ACGT, base quality, m6a score (dorado output normalized)\n",
    "# left to right (7 before - central - 7 after)\n",
    "# 7 or less"
   ]
  },
  {
   "cell_type": "code",
   "execution_count": 4,
   "metadata": {},
   "outputs": [
    {
     "name": "stdout",
     "output_type": "stream",
     "text": [
      "0.00392156862745098\n",
      "0.19607843137254902\n"
     ]
    }
   ],
   "source": [
    "# compare base quality\n",
    "print(np.min(features[:, 4, :]))\n",
    "print(np.max(features[:, 4, :]))"
   ]
  },
  {
   "cell_type": "code",
   "execution_count": 5,
   "metadata": {},
   "outputs": [
    {
     "data": {
      "image/png": "[encoded data removed]",
      "text/plain": [
       "<Figure size 640x480 with 1 Axes>"
      ]
     },
     "metadata": {},
     "output_type": "display_data"
    }
   ],
   "source": [
    "import matplotlib.pyplot as plt\n",
    "\n",
    "data_to_plot = features[:, 4, :]\n",
    "\n",
    "plt.boxplot(data_to_plot)\n",
    "\n",
    "plt.xlabel('Base quality')\n",
    "plt.ylabel('Values')\n",
    "plt.title('Base quality range')\n",
    "\n",
    "ax = plt.gca()\n",
    "ax.spines['top'].set_visible(False)\n",
    "ax.spines['right'].set_visible(False)\n",
    "\n",
    "plt.show()"
   ]
  },
  {
   "cell_type": "code",
   "execution_count": 6,
   "metadata": {},
   "outputs": [
    {
     "data": {
      "text/plain": [
       "121907"
      ]
     },
     "execution_count": 6,
     "metadata": {},
     "output_type": "execute_result"
    }
   ],
   "source": [
    "above_threshold_mask = features[:, 4, :] > 0.05\n",
    "all_above_threshold = np.all(above_threshold_mask, axis=1)\n",
    "np.sum(all_above_threshold)"
   ]
  },
  {
   "cell_type": "code",
   "execution_count": 7,
   "metadata": {},
   "outputs": [
    {
     "data": {
      "text/plain": [
       "51.112734375"
      ]
     },
     "execution_count": 7,
     "metadata": {},
     "output_type": "execute_result"
    }
   ],
   "source": [
    "2616972/5120000 * 100"
   ]
  },
  {
   "cell_type": "code",
   "execution_count": 8,
   "metadata": {},
   "outputs": [
    {
     "data": {
      "text/plain": [
       "(256000,)"
      ]
     },
     "execution_count": 8,
     "metadata": {},
     "output_type": "execute_result"
    }
   ],
   "source": [
    "labels = train_set['labels']\n",
    "labels.shape"
   ]
  },
  {
   "cell_type": "code",
   "execution_count": 9,
   "metadata": {},
   "outputs": [
    {
     "data": {
      "text/plain": [
       "(array([0, 1], dtype=int64), array([128000, 128000], dtype=int64))"
      ]
     },
     "execution_count": 9,
     "metadata": {},
     "output_type": "execute_result"
    }
   ],
   "source": [
    "np.unique(labels, return_counts=True)\n",
    "# balanced dataset"
   ]
  },
  {
   "cell_type": "code",
   "execution_count": 10,
   "metadata": {},
   "outputs": [
    {
     "data": {
      "text/plain": [
       "(256000,)"
      ]
     },
     "execution_count": 10,
     "metadata": {},
     "output_type": "execute_result"
    }
   ],
   "source": [
    "read_ids = train_set['read_ids']\n",
    "read_ids.shape"
   ]
  },
  {
   "cell_type": "code",
   "execution_count": 11,
   "metadata": {},
   "outputs": [
    {
     "name": "stdout",
     "output_type": "stream",
     "text": [
      "10589\n"
     ]
    },
    {
     "data": {
      "text/plain": [
       "array(['0010e35b-3962-44eb-84b5-f33166fd32ce',\n",
       "       '001a12e3-3b0c-446a-9b5b-e5f0f6bb8a2b',\n",
       "       '00267282-ee7f-4f39-b12e-3a281a4dd7ef', ...,\n",
       "       'fff2267a-1ce5-4634-8323-4d181a2c754b',\n",
       "       'fff4ab3e-a1db-44c3-9d33-b5052bfd5ca8',\n",
       "       'ffffa7d9-dacb-42c5-a2c2-34045fdf594a'], dtype='<U36')"
      ]
     },
     "execution_count": 11,
     "metadata": {},
     "output_type": "execute_result"
    }
   ],
   "source": [
    "print(len(np.unique(read_ids)))\n",
    "np.unique(read_ids)"
   ]
  },
  {
   "cell_type": "code",
   "execution_count": 12,
   "metadata": {},
   "outputs": [],
   "source": [
    "import numpy as np\n",
    "\n",
    "# get bases loop form\n",
    "\n",
    "def filter_set_by_base_quality(data, quality_threshold=0.05, drop_base_quality=True):\n",
    "    features = data['features']\n",
    "    labels = data['labels']\n",
    "    import numpy as np\n",
    "\n",
    "    list_above_threshold = []\n",
    "    \n",
    "    # Iterate through the data to check values\n",
    "    for i in range(features.shape[0]):\n",
    "        if features[i, 4, 7] > quality_threshold:\n",
    "            list_above_threshold.append(i)\n",
    "    \n",
    "    above_threshold_indices = np.array(list_above_threshold)\n",
    "    \n",
    "    above_threshold_features = features[above_threshold_indices]\n",
    "    above_threshold_labels = labels[above_threshold_indices]\n",
    "    \n",
    "    if drop_base_quality:\n",
    "        above_threshold_features = above_threshold_features[:, np.arange(above_threshold_features.shape[1]) != 4, :]\n",
    "    \n",
    "    return above_threshold_features, above_threshold_labels\n",
    "\n",
    "filtered_features, filtered_labels = filter_set_by_base_quality(train_set)\n",
    "\n",
    "\n",
    "# vectorized version\n",
    "\n",
    "# def filter_set_by_base_quality(data, quality_threshold=0.05, drop_base_quality=True):\n",
    "#     features = data['features']\n",
    "#     labels = data['labels']\n",
    "\n",
    "#     above_threshold_mask = features[:, 4, :] > quality_threshold\n",
    "#     all_above_threshold_features = features[:, above_threshold_mask, :]\n",
    "\n",
    "#     all_above_threshold_indices = np.where(all_above_threshold_features)[0]\n",
    "\n",
    "\n",
    "#     if drop_base_quality:\n",
    "#         mask = np.arange(features.shape[1]) != 4\n",
    "#         all_above_threshold_features = all_above_threshold_features[:, mask, :]\n",
    "\n",
    "    \n",
    "#     print(len(all_above_threshold_indices))\n",
    "    \n",
    "#     all_above_threshold_labels = labels[all_above_threshold_indices]\n",
    "\n",
    "#     return all_above_threshold_features, all_above_threshold_labels\n"
   ]
  },
  {
   "cell_type": "code",
   "execution_count": 13,
   "metadata": {},
   "outputs": [
    {
     "name": "stdout",
     "output_type": "stream",
     "text": [
      "True\n",
      "(163831, 5, 15)\n"
     ]
    },
    {
     "data": {
      "text/plain": [
       "63.996484374999994"
      ]
     },
     "execution_count": 13,
     "metadata": {},
     "output_type": "execute_result"
    }
   ],
   "source": [
    "print(len(filtered_features) == len(filtered_labels))\n",
    "print(filtered_features.shape)\n",
    "len(filtered_features) / len(train_set['features']) * 100"
   ]
  },
  {
   "cell_type": "code",
   "execution_count": 14,
   "metadata": {},
   "outputs": [
    {
     "data": {
      "text/plain": [
       "(163831, 5, 11)"
      ]
     },
     "execution_count": 14,
     "metadata": {},
     "output_type": "execute_result"
    }
   ],
   "source": [
    "def set_num_nucleotides(features, num = 5):\n",
    "    if num > 7:\n",
    "        print('Cannot have more than 7 nucleotides.')\n",
    "    else:\n",
    "        num_to_remove = 7 - num\n",
    "        \n",
    "        keep_from_start = num_to_remove\n",
    "        keep_from_end = features.shape[2] - num_to_remove\n",
    "\n",
    "        new_features = features[:, :, keep_from_start:keep_from_end]\n",
    "        \n",
    "        return new_features\n",
    "\n",
    "filtered_features = set_num_nucleotides(filtered_features, 5)\n",
    "filtered_features.shape"
   ]
  },
  {
   "cell_type": "code",
   "execution_count": 15,
   "metadata": {},
   "outputs": [
    {
     "name": "stdout",
     "output_type": "stream",
     "text": [
      "(163831, 11, 5)\n"
     ]
    }
   ],
   "source": [
    "# prep for model input\n",
    "\n",
    "X_train = filtered_features.transpose((0, 2, 1))\n",
    "y_train = filtered_labels\n",
    "\n",
    "print(X_train.shape)"
   ]
  },
  {
   "cell_type": "code",
   "execution_count": 18,
   "metadata": {},
   "outputs": [
    {
     "data": {
      "text/plain": [
       "131064"
      ]
     },
     "execution_count": 18,
     "metadata": {},
     "output_type": "execute_result"
    }
   ],
   "source": [
    "# train test split\n",
    "\n",
    "from sklearn.model_selection import train_test_split\n",
    "\n",
    "X_train, X_val, y_train, y_val = train_test_split(\n",
    "    X_train, y_train, test_size=0.2, random_state=42)\n"
   ]
  },
  {
   "cell_type": "markdown",
   "metadata": {},
   "source": [
    "### LSTM benchmark"
   ]
  },
  {
   "cell_type": "code",
   "execution_count": 20,
   "metadata": {},
   "outputs": [
    {
     "name": "stdout",
     "output_type": "stream",
     "text": [
      "4096/4096 [==============================] - 35s 8ms/step - loss: 0.6198 - accuracy: 0.6646 - val_loss: 0.6036 - val_accuracy: 0.6804\n",
      "Epoch 1/10 - Train Loss: 0.6198, Train Acc: 0.6646, Val Loss: 0.6036, Val Acc: 0.6804\n",
      "4096/4096 [==============================] - 32s 8ms/step - loss: 0.6020 - accuracy: 0.6762 - val_loss: 0.5943 - val_accuracy: 0.6853\n",
      "Epoch 2/10 - Train Loss: 0.6020, Train Acc: 0.6762, Val Loss: 0.5943, Val Acc: 0.6853\n",
      "4096/4096 [==============================] - 31s 8ms/step - loss: 0.5984 - accuracy: 0.6792 - val_loss: 0.5965 - val_accuracy: 0.6840\n",
      "Epoch 3/10 - Train Loss: 0.5984, Train Acc: 0.6792, Val Loss: 0.5965, Val Acc: 0.6840\n",
      "4096/4096 [==============================] - 33s 8ms/step - loss: 0.5962 - accuracy: 0.6799 - val_loss: 0.5956 - val_accuracy: 0.6856\n",
      "Epoch 4/10 - Train Loss: 0.5962, Train Acc: 0.6799, Val Loss: 0.5956, Val Acc: 0.6856\n",
      "4096/4096 [==============================] - 32s 8ms/step - loss: 0.5950 - accuracy: 0.6815 - val_loss: 0.5902 - val_accuracy: 0.6872\n",
      "Epoch 5/10 - Train Loss: 0.5950, Train Acc: 0.6815, Val Loss: 0.5902, Val Acc: 0.6872\n",
      "4096/4096 [==============================] - 33s 8ms/step - loss: 0.5939 - accuracy: 0.6824 - val_loss: 0.5908 - val_accuracy: 0.6887\n",
      "Epoch 6/10 - Train Loss: 0.5939, Train Acc: 0.6824, Val Loss: 0.5908, Val Acc: 0.6887\n",
      "4096/4096 [==============================] - 34s 8ms/step - loss: 0.5927 - accuracy: 0.6828 - val_loss: 0.5899 - val_accuracy: 0.6885\n",
      "Epoch 7/10 - Train Loss: 0.5927, Train Acc: 0.6828, Val Loss: 0.5899, Val Acc: 0.6885\n",
      "4096/4096 [==============================] - 32s 8ms/step - loss: 0.5918 - accuracy: 0.6832 - val_loss: 0.5890 - val_accuracy: 0.6883\n",
      "Epoch 8/10 - Train Loss: 0.5918, Train Acc: 0.6832, Val Loss: 0.5890, Val Acc: 0.6883\n",
      "4096/4096 [==============================] - 32s 8ms/step - loss: 0.5911 - accuracy: 0.6838 - val_loss: 0.5885 - val_accuracy: 0.6875\n",
      "Epoch 9/10 - Train Loss: 0.5911, Train Acc: 0.6838, Val Loss: 0.5885, Val Acc: 0.6875\n",
      "4096/4096 [==============================] - 32s 8ms/step - loss: 0.5901 - accuracy: 0.6840 - val_loss: 0.5876 - val_accuracy: 0.6891\n",
      "Epoch 10/10 - Train Loss: 0.5901, Train Acc: 0.6840, Val Loss: 0.5876, Val Acc: 0.6891\n"
     ]
    }
   ],
   "source": [
    "# basic lstm architecture\n",
    "from tensorflow.keras.models import Sequential\n",
    "from tensorflow.keras.layers import LSTM, Dense\n",
    "\n",
    "model = Sequential()\n",
    "model.add(LSTM(64, input_shape=(11, 5)))\n",
    "model.add(Dense(1, activation='sigmoid'))\n",
    "\n",
    "model.compile(loss='binary_crossentropy', optimizer='adam', metrics=['accuracy'])\n",
    "\n",
    "train_loss_history = []\n",
    "train_accuracy_history = []\n",
    "val_loss_history = []\n",
    "val_accuracy_history = []\n",
    "\n",
    "epochs = 10\n",
    "\n",
    "for epoch in range(epochs):\n",
    "    history = model.fit(X_train, y_train, validation_data=(X_val, y_val), batch_size=32)\n",
    "    \n",
    "    train_loss_history.append(history.history['loss'])\n",
    "    train_accuracy_history.append(history.history['accuracy'])\n",
    "    val_loss_history.append(history.history['val_loss'])\n",
    "    val_accuracy_history.append(history.history['val_accuracy'])\n",
    "    \n",
    "    print(f\"Epoch {epoch + 1}/{epochs} - \"\n",
    "          f\"Train Loss: {history.history['loss'][0]:.4f}, \"\n",
    "          f\"Train Acc: {history.history['accuracy'][0]:.4f}, \"\n",
    "          f\"Val Loss: {history.history['val_loss'][0]:.4f}, \"\n",
    "          f\"Val Acc: {history.history['val_accuracy'][0]:.4f}\")"
   ]
  },
  {
   "cell_type": "code",
   "execution_count": 21,
   "metadata": {},
   "outputs": [
    {
     "data": {
      "image/png": "[encoded data removed]",
      "text/plain": [
       "<Figure size 1200x400 with 2 Axes>"
      ]
     },
     "metadata": {},
     "output_type": "display_data"
    }
   ],
   "source": [
    "plt.figure(figsize=(12, 4))\n",
    "plt.subplot(1, 2, 1)\n",
    "plt.plot(range(1, epochs + 1), train_loss_history, label='Train Loss')\n",
    "plt.plot(range(1, epochs + 1), val_loss_history, label='Val Loss')\n",
    "plt.xlabel('Epochs')\n",
    "plt.ylabel('Loss')\n",
    "plt.legend()\n",
    "\n",
    "plt.subplot(1, 2, 2)\n",
    "plt.plot(range(1, epochs + 1), train_accuracy_history, label='Train Accuracy')\n",
    "plt.plot(range(1, epochs + 1), val_accuracy_history, label='Val Accuracy')\n",
    "plt.xlabel('Epochs')\n",
    "plt.ylabel('Accuracy')\n",
    "plt.legend()\n",
    "\n",
    "plt.show()"
   ]
  },
  {
   "cell_type": "markdown",
   "metadata": {},
   "source": [
    "### Hparam search & more complex architecture"
   ]
  }
 ],
 "metadata": {
  "kernelspec": {
   "display_name": "ont_m6a",
   "language": "python",
   "name": "python3"
  },
  "language_info": {
   "codemirror_mode": {
    "name": "ipython",
    "version": 3
   },
   "file_extension": ".py",
   "mimetype": "text/x-python",
   "name": "python",
   "nbconvert_exporter": "python",
   "pygments_lexer": "ipython3",
   "version": "3.10.9"
  },
  "orig_nbformat": 4
 },
 "nbformat": 4,
 "nbformat_minor": 2
}
