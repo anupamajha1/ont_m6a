{
 "cells": [
  {
   "cell_type": "code",
   "execution_count": 23,
   "metadata": {},
   "outputs": [
    {
     "data": {
      "text/plain": [
       "['features', 'labels', 'read_ids']"
      ]
     },
     "execution_count": 23,
     "metadata": {},
     "output_type": "execute_result"
    }
   ],
   "source": [
    "import numpy as np\n",
    "train_set = np.load('../data/HG002_2_3_00_400k_train.npz')\n",
    "train_set.files"
   ]
  },
  {
   "cell_type": "code",
   "execution_count": 7,
   "metadata": {},
   "outputs": [
    {
     "data": {
      "text/plain": [
       "(256000, 6, 15)"
      ]
     },
     "execution_count": 7,
     "metadata": {},
     "output_type": "execute_result"
    }
   ],
   "source": [
    "features = train_set['features']\n",
    "features.shape"
   ]
  },
  {
   "cell_type": "code",
   "execution_count": 8,
   "metadata": {},
   "outputs": [
    {
     "data": {
      "text/plain": [
       "array([[0.        , 0.        , 0.        , 0.        , 0.        ,\n",
       "        0.        , 1.        , 1.        , 0.        , 0.        ,\n",
       "        0.        , 0.        , 0.        , 0.        , 0.        ],\n",
       "       [0.        , 0.        , 0.        , 0.        , 0.        ,\n",
       "        1.        , 0.        , 0.        , 1.        , 0.        ,\n",
       "        0.        , 0.        , 0.        , 0.        , 0.        ],\n",
       "       [0.        , 1.        , 0.        , 1.        , 0.        ,\n",
       "        0.        , 0.        , 0.        , 0.        , 0.        ,\n",
       "        0.        , 0.        , 1.        , 0.        , 0.        ],\n",
       "       [1.        , 0.        , 1.        , 0.        , 1.        ,\n",
       "        0.        , 0.        , 0.        , 0.        , 1.        ,\n",
       "        1.        , 1.        , 0.        , 1.        , 1.        ],\n",
       "       [0.16078431, 0.17647059, 0.16078431, 0.16078431, 0.19607843,\n",
       "        0.15686275, 0.15686275, 0.19607843, 0.19607843, 0.15686275,\n",
       "        0.16470588, 0.19607843, 0.15294118, 0.14901961, 0.19607843],\n",
       "       [0.        , 0.        , 0.        , 0.        , 0.        ,\n",
       "        0.        , 0.        , 0.10588235, 0.        , 0.        ,\n",
       "        0.        , 0.        , 0.        , 0.        , 0.        ]])"
      ]
     },
     "execution_count": 8,
     "metadata": {},
     "output_type": "execute_result"
    }
   ],
   "source": [
    "features[0]\n",
    "\n",
    "# ACGT, base quality, m6a score (dorado output normalized)\n",
    "# left to right (7 before - central - 7 after)\n",
    "# 7 or less"
   ]
  },
  {
   "cell_type": "code",
   "execution_count": 9,
   "metadata": {},
   "outputs": [
    {
     "name": "stdout",
     "output_type": "stream",
     "text": [
      "0.00392156862745098\n",
      "0.19607843137254902\n"
     ]
    }
   ],
   "source": [
    "# compare base quality\n",
    "print(np.min(features[:, 4, :]))\n",
    "print(np.max(features[:, 4, :]))"
   ]
  },
  {
   "cell_type": "code",
   "execution_count": 10,
   "metadata": {},
   "outputs": [
    {
     "data": {
      "image/png": "[encoded data removed]",
      "text/plain": [
       "<Figure size 640x480 with 1 Axes>"
      ]
     },
     "metadata": {},
     "output_type": "display_data"
    }
   ],
   "source": [
    "import matplotlib.pyplot as plt\n",
    "\n",
    "data_to_plot = features[:, 4, :]\n",
    "\n",
    "plt.boxplot(data_to_plot)\n",
    "\n",
    "plt.xlabel('Base quality')\n",
    "plt.ylabel('Values')\n",
    "plt.title('Base quality range')\n",
    "\n",
    "ax = plt.gca()\n",
    "ax.spines['top'].set_visible(False)\n",
    "ax.spines['right'].set_visible(False)\n",
    "\n",
    "plt.show()"
   ]
  },
  {
   "cell_type": "code",
   "execution_count": 11,
   "metadata": {},
   "outputs": [
    {
     "data": {
      "text/plain": [
       "121907"
      ]
     },
     "execution_count": 11,
     "metadata": {},
     "output_type": "execute_result"
    }
   ],
   "source": [
    "above_threshold_mask = features[:, 4, :] > 0.05\n",
    "all_above_threshold = np.all(above_threshold_mask, axis=1)\n",
    "np.sum(all_above_threshold)"
   ]
  },
  {
   "cell_type": "code",
   "execution_count": 12,
   "metadata": {},
   "outputs": [
    {
     "data": {
      "text/plain": [
       "51.112734375"
      ]
     },
     "execution_count": 12,
     "metadata": {},
     "output_type": "execute_result"
    }
   ],
   "source": [
    "2616972/5120000 * 100"
   ]
  },
  {
   "cell_type": "code",
   "execution_count": 13,
   "metadata": {},
   "outputs": [
    {
     "data": {
      "text/plain": [
       "(256000,)"
      ]
     },
     "execution_count": 13,
     "metadata": {},
     "output_type": "execute_result"
    }
   ],
   "source": [
    "labels = train_set['labels']\n",
    "labels.shape"
   ]
  },
  {
   "cell_type": "code",
   "execution_count": 14,
   "metadata": {},
   "outputs": [
    {
     "data": {
      "text/plain": [
       "(array([0, 1], dtype=int64), array([128000, 128000], dtype=int64))"
      ]
     },
     "execution_count": 14,
     "metadata": {},
     "output_type": "execute_result"
    }
   ],
   "source": [
    "np.unique(labels, return_counts=True)\n",
    "# balanced dataset"
   ]
  },
  {
   "cell_type": "code",
   "execution_count": 15,
   "metadata": {},
   "outputs": [
    {
     "data": {
      "text/plain": [
       "(256000,)"
      ]
     },
     "execution_count": 15,
     "metadata": {},
     "output_type": "execute_result"
    }
   ],
   "source": [
    "read_ids = train_set['read_ids']\n",
    "read_ids.shape"
   ]
  },
  {
   "cell_type": "code",
   "execution_count": 16,
   "metadata": {},
   "outputs": [
    {
     "name": "stdout",
     "output_type": "stream",
     "text": [
      "10589\n"
     ]
    },
    {
     "data": {
      "text/plain": [
       "array(['0010e35b-3962-44eb-84b5-f33166fd32ce',\n",
       "       '001a12e3-3b0c-446a-9b5b-e5f0f6bb8a2b',\n",
       "       '00267282-ee7f-4f39-b12e-3a281a4dd7ef', ...,\n",
       "       'fff2267a-1ce5-4634-8323-4d181a2c754b',\n",
       "       'fff4ab3e-a1db-44c3-9d33-b5052bfd5ca8',\n",
       "       'ffffa7d9-dacb-42c5-a2c2-34045fdf594a'], dtype='<U36')"
      ]
     },
     "execution_count": 16,
     "metadata": {},
     "output_type": "execute_result"
    }
   ],
   "source": [
    "print(len(np.unique(read_ids)))\n",
    "np.unique(read_ids)"
   ]
  },
  {
   "cell_type": "code",
   "execution_count": 100,
   "metadata": {},
   "outputs": [],
   "source": [
    "import numpy as np\n",
    "\n",
    "# get bases loop form\n",
    "\n",
    "def filter_set_by_base_quality(data, quality_threshold=0.05, drop_base_quality=True):\n",
    "    features = data['features']\n",
    "    labels = data['labels']\n",
    "    import numpy as np\n",
    "\n",
    "    list_above_threshold = []\n",
    "    \n",
    "    # Iterate through the data to check values\n",
    "    for i in range(features.shape[0]):\n",
    "        if features[i, 4, 7] > quality_threshold:\n",
    "            list_above_threshold.append(i)\n",
    "    \n",
    "    above_threshold_indices = np.array(list_above_threshold)\n",
    "    \n",
    "    above_threshold_features = features[above_threshold_indices]\n",
    "    above_threshold_labels = labels[above_threshold_indices]\n",
    "    \n",
    "    if drop_base_quality:\n",
    "        above_threshold_features = above_threshold_features[:, np.arange(above_threshold_features.shape[1]) != 4, :]\n",
    "    \n",
    "    return above_threshold_features, above_threshold_labels\n",
    "\n",
    "filtered_features, filtered_labels = filter_set_by_base_quality(train_set)\n",
    "\n",
    "\n",
    "# vectorized version\n",
    "\n",
    "# def filter_set_by_base_quality(data, quality_threshold=0.05, drop_base_quality=True):\n",
    "#     features = data['features']\n",
    "#     labels = data['labels']\n",
    "\n",
    "#     above_threshold_mask = features[:, 4, :] > quality_threshold\n",
    "#     all_above_threshold_features = features[:, above_threshold_mask, :]\n",
    "\n",
    "#     all_above_threshold_indices = np.where(all_above_threshold_features)[0]\n",
    "\n",
    "\n",
    "#     if drop_base_quality:\n",
    "#         mask = np.arange(features.shape[1]) != 4\n",
    "#         all_above_threshold_features = all_above_threshold_features[:, mask, :]\n",
    "\n",
    "    \n",
    "#     print(len(all_above_threshold_indices))\n",
    "    \n",
    "#     all_above_threshold_labels = labels[all_above_threshold_indices]\n",
    "\n",
    "#     return all_above_threshold_features, all_above_threshold_labels\n"
   ]
  },
  {
   "cell_type": "code",
   "execution_count": 102,
   "metadata": {},
   "outputs": [
    {
     "name": "stdout",
     "output_type": "stream",
     "text": [
      "True\n",
      "(163831, 5, 15)\n"
     ]
    },
    {
     "data": {
      "text/plain": [
       "63.996484374999994"
      ]
     },
     "execution_count": 102,
     "metadata": {},
     "output_type": "execute_result"
    }
   ],
   "source": [
    "print(len(filtered_features) == len(filtered_labels))\n",
    "print(filtered_features.shape)\n",
    "len(filtered_features) / len(train_set['features']) * 100"
   ]
  },
  {
   "cell_type": "code",
   "execution_count": 108,
   "metadata": {},
   "outputs": [
    {
     "data": {
      "text/plain": [
       "(163831, 5, 11)"
      ]
     },
     "execution_count": 108,
     "metadata": {},
     "output_type": "execute_result"
    }
   ],
   "source": [
    "def set_num_nucleotides(features, num = 5):\n",
    "    if num > 7:\n",
    "        print('Cannot have more than 7 nucleotides.')\n",
    "    else:\n",
    "        num_to_remove = 7 - num\n",
    "        \n",
    "        keep_from_start = num_to_remove\n",
    "        keep_from_end = features.shape[2] - num_to_remove\n",
    "\n",
    "        new_features = features[:, :, keep_from_start:keep_from_end]\n",
    "        \n",
    "        return new_features\n",
    "\n",
    "set_num_nucleotides(filtered_features, 5).shape"
   ]
  },
  {
   "cell_type": "code",
   "execution_count": null,
   "metadata": {},
   "outputs": [],
   "source": [
    "# basic lstm architecture\n",
    "import torch\n",
    "import torch.nn as nn\n",
    "\n",
    "class LSTMClassifier(nn.Module):\n",
    "    def __init__(self, input_dim, hidden_dim, output_dim, num_layers, bidirectional=False):\n",
    "        super(LSTMClassifier, self).__init__()\n",
    "        \n",
    "        # LSTM layer\n",
    "        self.lstm = nn.LSTM(input_dim, hidden_dim, num_layers=num_layers, bidirectional=bidirectional, batch_first=True)\n",
    "        \n",
    "        # Fully connected layer\n",
    "        self.fc = nn.Linear(hidden_dim * (2 if bidirectional else 1), output_dim)\n",
    "        \n",
    "    def forward(self, x):\n",
    "        out, _ = self.lstm(x)\n",
    "        out = out[:, -1, :]\n",
    "        out = self.fc(out)\n",
    "        \n",
    "        return out"
   ]
  }
 ],
 "metadata": {
  "kernelspec": {
   "display_name": "ont_m6a",
   "language": "python",
   "name": "python3"
  },
  "language_info": {
   "codemirror_mode": {
    "name": "ipython",
    "version": 3
   },
   "file_extension": ".py",
   "mimetype": "text/x-python",
   "name": "python",
   "nbconvert_exporter": "python",
   "pygments_lexer": "ipython3",
   "version": "3.10.9"
  },
  "orig_nbformat": 4
 },
 "nbformat": 4,
 "nbformat_minor": 2
}
