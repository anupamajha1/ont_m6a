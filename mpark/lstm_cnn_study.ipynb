{
 "cells": [
  {
   "cell_type": "code",
   "execution_count": 4,
   "metadata": {},
   "outputs": [],
   "source": [
    "import numpy as np\n",
    "import optuna\n",
    "from tensorflow.keras.models import Sequential\n",
    "from tensorflow.keras.layers import LSTM, Dense\n",
    "from tensorflow.keras.layers import MaxPooling1D, Conv1D, Flatten\n",
    "\n",
    "def filter_set_by_base_quality(data, quality_threshold=0.05, drop_base_quality=True):\n",
    "    features = data['features']\n",
    "    labels = data['labels']\n",
    "\n",
    "    list_above_threshold = []\n",
    "    \n",
    "    for i in range(features.shape[0]):\n",
    "        if features[i, 4, 7] > quality_threshold:\n",
    "            list_above_threshold.append(i)\n",
    "    \n",
    "    above_threshold_indices = np.array(list_above_threshold)\n",
    "    \n",
    "    above_threshold_features = features[above_threshold_indices]\n",
    "    above_threshold_labels = labels[above_threshold_indices]\n",
    "    \n",
    "    if drop_base_quality:\n",
    "        above_threshold_features = above_threshold_features[:, np.arange(above_threshold_features.shape[1]) != 4, :]\n",
    "    \n",
    "    return above_threshold_features, above_threshold_labels\n",
    "\n",
    "def set_num_nucleotides(features, num = 7):\n",
    "    if num > 7:\n",
    "        print('Cannot have more than 7 nucleotides.')\n",
    "    else:\n",
    "        num_to_remove = 7 - num\n",
    "        \n",
    "        keep_from_start = num_to_remove\n",
    "        keep_from_end = features.shape[2] - num_to_remove\n",
    "\n",
    "        new_features = features[:, :, keep_from_start:keep_from_end]\n",
    "        \n",
    "        return new_features\n",
    "\n",
    "def lstm_hybrid_run(trial): \n",
    "\n",
    "    num_nucleotides = trial.suggest_int(\"num_nucleotides\", 1, 7)\n",
    "\n",
    "    train_set = np.load('../data/ml_data/HG002_2_3_00_400k_train.npz')\n",
    "    val_set = np.load('../data/ml_data/HG002_2_3_00_400k_val.npz')\n",
    "\n",
    "    # build train set\n",
    "    train_features, y_train = filter_set_by_base_quality(train_set)\n",
    "    train_features = set_num_nucleotides(train_features, num_nucleotides)\n",
    "    X_train = train_features.transpose((0, 2, 1))\n",
    "\n",
    "    # build val set    \n",
    "    val_features, y_val = filter_set_by_base_quality(val_set)\n",
    "    val_features = set_num_nucleotides(val_features, num_nucleotides)\n",
    "    X_val = val_features.transpose((0, 2, 1)) \n",
    "\n",
    "    # dynamically set input_shape for model\n",
    "    full_window = num_nucleotides * 2 + 1\n",
    "    input_shape = ((full_window), 5)   \n",
    "\n",
    "    model = Sequential()\n",
    "\n",
    "    # lstm layer\n",
    "    model.add(LSTM(64, input_shape=input_shape, return_sequences=True))\n",
    "\n",
    "    # convolutional layers & max pooling\n",
    "    model.add(Conv1D(32, kernel_size=3, activation='relu', padding='same'))\n",
    "    model.add(MaxPooling1D(pool_size=2))\n",
    "    model.add(Conv1D(64, kernel_size=3, activation='relu', padding='same'))\n",
    "    model.add(MaxPooling1D(pool_size=2))\n",
    "\n",
    "    # flatten\n",
    "    model.add(Flatten())\n",
    "\n",
    "    # dense/output layer\n",
    "    model.add(Dense(1, activation='sigmoid'))\n",
    "\n",
    "    model.compile(loss='binary_crossentropy', optimizer='adam', metrics=['accuracy'])\n",
    "\n",
    "    train_loss_history = []\n",
    "    train_accuracy_history = []\n",
    "    val_loss_history = []\n",
    "    val_accuracy_history = []\n",
    "\n",
    "    epochs = 10\n",
    "\n",
    "    for epoch in range(epochs):\n",
    "        history = model.fit(X_train, y_train, validation_data=(X_val, y_val), batch_size=32)\n",
    "        \n",
    "        train_loss_history.append(history.history['loss'])\n",
    "        train_accuracy_history.append(history.history['accuracy'])\n",
    "        val_loss_history.append(history.history['val_loss'])\n",
    "        val_accuracy_history.append(history.history['val_accuracy'])\n",
    "        \n",
    "        print(f\"Epoch {epoch + 1}/{epochs} - \"\n",
    "            f\"Train Loss: {history.history['loss'][0]:.4f}, \"\n",
    "            f\"Train Acc: {history.history['accuracy'][0]:.4f}, \"\n",
    "            f\"Val Loss: {history.history['val_loss'][0]:.4f}, \"\n",
    "            f\"Val Acc: {history.history['val_accuracy'][0]:.4f}\")\n",
    "        \n",
    "    accuracy = val_accuracy_history[len(val_accuracy_history) - 1]\n",
    "    return accuracy"
   ]
  },
  {
   "cell_type": "code",
   "execution_count": 3,
   "metadata": {},
   "outputs": [
    {
     "name": "stderr",
     "output_type": "stream",
     "text": [
      "[I 2023-09-21 11:53:45,572] A new study created in memory with name: no-name-56fa272e-832d-45bc-bbce-95f8f6d52eba\n"
     ]
    },
    {
     "name": "stdout",
     "output_type": "stream",
     "text": [
      "Training the LSTM-CNN hybrid model.\n"
     ]
    },
    {
     "name": "stderr",
     "output_type": "stream",
     "text": [
      "[W 2023-09-21 11:53:49,374] Trial 0 failed with parameters: {'num_nucleotides': 7} because of the following error: KeyboardInterrupt().\n",
      "Traceback (most recent call last):\n",
      "  File \"c:\\Users\\mmm\\anaconda3\\lib\\site-packages\\optuna\\study\\_optimize.py\", line 200, in _run_trial\n",
      "    value_or_values = func(trial)\n",
      "  File \"C:\\Users\\mmm\\AppData\\Local\\Temp\\ipykernel_18692\\2064583559.py\", line 88, in lstm_hybrid_run\n",
      "    history = model.fit(X_train, y_train, validation_data=(X_val, y_val), batch_size=32)\n",
      "  File \"c:\\Users\\mmm\\anaconda3\\lib\\site-packages\\keras\\src\\utils\\traceback_utils.py\", line 65, in error_handler\n",
      "    return fn(*args, **kwargs)\n",
      "  File \"c:\\Users\\mmm\\anaconda3\\lib\\site-packages\\keras\\src\\engine\\training.py\", line 1742, in fit\n",
      "    tmp_logs = self.train_function(iterator)\n",
      "  File \"c:\\Users\\mmm\\anaconda3\\lib\\site-packages\\tensorflow\\python\\util\\traceback_utils.py\", line 150, in error_handler\n",
      "    return fn(*args, **kwargs)\n",
      "  File \"c:\\Users\\mmm\\anaconda3\\lib\\site-packages\\tensorflow\\python\\eager\\polymorphic_function\\polymorphic_function.py\", line 825, in __call__\n",
      "    result = self._call(*args, **kwds)\n",
      "  File \"c:\\Users\\mmm\\anaconda3\\lib\\site-packages\\tensorflow\\python\\eager\\polymorphic_function\\polymorphic_function.py\", line 873, in _call\n",
      "    self._initialize(args, kwds, add_initializers_to=initializers)\n",
      "  File \"c:\\Users\\mmm\\anaconda3\\lib\\site-packages\\tensorflow\\python\\eager\\polymorphic_function\\polymorphic_function.py\", line 694, in _initialize\n",
      "    self._variable_creation_fn    # pylint: disable=protected-access\n",
      "  File \"c:\\Users\\mmm\\anaconda3\\lib\\site-packages\\tensorflow\\python\\eager\\polymorphic_function\\tracing_compiler.py\", line 176, in _get_concrete_function_internal_garbage_collected\n",
      "    concrete_function, _ = self._maybe_define_concrete_function(args, kwargs)\n",
      "  File \"c:\\Users\\mmm\\anaconda3\\lib\\site-packages\\tensorflow\\python\\eager\\polymorphic_function\\tracing_compiler.py\", line 171, in _maybe_define_concrete_function\n",
      "    return self._maybe_define_function(args, kwargs)\n",
      "  File \"c:\\Users\\mmm\\anaconda3\\lib\\site-packages\\tensorflow\\python\\eager\\polymorphic_function\\tracing_compiler.py\", line 398, in _maybe_define_function\n",
      "    concrete_function = self._create_concrete_function(\n",
      "  File \"c:\\Users\\mmm\\anaconda3\\lib\\site-packages\\tensorflow\\python\\eager\\polymorphic_function\\tracing_compiler.py\", line 305, in _create_concrete_function\n",
      "    func_graph_module.func_graph_from_py_func(\n",
      "  File \"c:\\Users\\mmm\\anaconda3\\lib\\site-packages\\tensorflow\\python\\framework\\func_graph.py\", line 1055, in func_graph_from_py_func\n",
      "    func_outputs = python_func(*func_args, **func_kwargs)\n",
      "  File \"c:\\Users\\mmm\\anaconda3\\lib\\site-packages\\tensorflow\\python\\eager\\polymorphic_function\\polymorphic_function.py\", line 597, in wrapped_fn\n",
      "    out = weak_wrapped_fn().__wrapped__(*args, **kwds)\n",
      "  File \"c:\\Users\\mmm\\anaconda3\\lib\\site-packages\\tensorflow\\python\\eager\\polymorphic_function\\autograph_util.py\", line 41, in autograph_handler\n",
      "    return api.converted_call(\n",
      "  File \"c:\\Users\\mmm\\anaconda3\\lib\\site-packages\\tensorflow\\python\\autograph\\impl\\api.py\", line 439, in converted_call\n",
      "    result = converted_f(*effective_args, **kwargs)\n",
      "  File \"C:\\Users\\mmm\\AppData\\Local\\Temp\\__autograph_generated_fileayx7zak6.py\", line 15, in tf__train_function\n",
      "    retval_ = ag__.converted_call(ag__.ld(step_function), (ag__.ld(self), ag__.ld(iterator)), None, fscope)\n",
      "  File \"c:\\Users\\mmm\\anaconda3\\lib\\site-packages\\tensorflow\\python\\autograph\\impl\\api.py\", line 377, in converted_call\n",
      "    return _call_unconverted(f, args, kwargs, options)\n",
      "  File \"c:\\Users\\mmm\\anaconda3\\lib\\site-packages\\tensorflow\\python\\autograph\\impl\\api.py\", line 460, in _call_unconverted\n",
      "    return f(*args)\n",
      "  File \"c:\\Users\\mmm\\anaconda3\\lib\\site-packages\\keras\\src\\engine\\training.py\", line 1322, in step_function\n",
      "    outputs = model.distribute_strategy.run(run_step, args=(data,))\n",
      "  File \"c:\\Users\\mmm\\anaconda3\\lib\\site-packages\\tensorflow\\python\\distribute\\distribute_lib.py\", line 1673, in run\n",
      "    return self._extended.call_for_each_replica(fn, args=args, kwargs=kwargs)\n",
      "  File \"c:\\Users\\mmm\\anaconda3\\lib\\site-packages\\tensorflow\\python\\distribute\\distribute_lib.py\", line 3250, in call_for_each_replica\n",
      "    return self._call_for_each_replica(fn, args, kwargs)\n",
      "  File \"c:\\Users\\mmm\\anaconda3\\lib\\site-packages\\tensorflow\\python\\distribute\\distribute_lib.py\", line 4048, in _call_for_each_replica\n",
      "    return fn(*args, **kwargs)\n",
      "  File \"c:\\Users\\mmm\\anaconda3\\lib\\site-packages\\tensorflow\\python\\autograph\\impl\\api.py\", line 690, in wrapper\n",
      "    return converted_call(f, args, kwargs, options=options)\n",
      "  File \"c:\\Users\\mmm\\anaconda3\\lib\\site-packages\\tensorflow\\python\\autograph\\impl\\api.py\", line 377, in converted_call\n",
      "    return _call_unconverted(f, args, kwargs, options)\n",
      "  File \"c:\\Users\\mmm\\anaconda3\\lib\\site-packages\\tensorflow\\python\\autograph\\impl\\api.py\", line 459, in _call_unconverted\n",
      "    return f(*args, **kwargs)\n",
      "  File \"c:\\Users\\mmm\\anaconda3\\lib\\site-packages\\keras\\src\\engine\\training.py\", line 1303, in run_step\n",
      "    outputs = model.train_step(data)\n",
      "  File \"c:\\Users\\mmm\\anaconda3\\lib\\site-packages\\keras\\src\\engine\\training.py\", line 1084, in train_step\n",
      "    self.optimizer.minimize(loss, self.trainable_variables, tape=tape)\n",
      "  File \"c:\\Users\\mmm\\anaconda3\\lib\\site-packages\\keras\\src\\optimizers\\optimizer.py\", line 544, in minimize\n",
      "    self.apply_gradients(grads_and_vars)\n",
      "  File \"c:\\Users\\mmm\\anaconda3\\lib\\site-packages\\keras\\src\\optimizers\\optimizer.py\", line 1230, in apply_gradients\n",
      "    return super().apply_gradients(grads_and_vars, name=name)\n",
      "  File \"c:\\Users\\mmm\\anaconda3\\lib\\site-packages\\keras\\src\\optimizers\\optimizer.py\", line 652, in apply_gradients\n",
      "    iteration = self._internal_apply_gradients(grads_and_vars)\n",
      "  File \"c:\\Users\\mmm\\anaconda3\\lib\\site-packages\\keras\\src\\optimizers\\optimizer.py\", line 1260, in _internal_apply_gradients\n",
      "    return tf.__internal__.distribute.interim.maybe_merge_call(\n",
      "  File \"c:\\Users\\mmm\\anaconda3\\lib\\site-packages\\tensorflow\\python\\distribute\\merge_call_interim.py\", line 51, in maybe_merge_call\n",
      "    return fn(strategy, *args, **kwargs)\n",
      "  File \"c:\\Users\\mmm\\anaconda3\\lib\\site-packages\\keras\\src\\optimizers\\optimizer.py\", line 1352, in _distributed_apply_gradients_fn\n",
      "    distribution.extended.update(\n",
      "  File \"c:\\Users\\mmm\\anaconda3\\lib\\site-packages\\tensorflow\\python\\distribute\\distribute_lib.py\", line 2994, in update\n",
      "    return self._replica_ctx_update(\n",
      "  File \"c:\\Users\\mmm\\anaconda3\\lib\\site-packages\\tensorflow\\python\\distribute\\distribute_lib.py\", line 2873, in _replica_ctx_update\n",
      "    return replica_context.merge_call(merge_fn, args=args, kwargs=kwargs)\n",
      "  File \"c:\\Users\\mmm\\anaconda3\\lib\\site-packages\\tensorflow\\python\\distribute\\distribute_lib.py\", line 3465, in merge_call\n",
      "    return self._merge_call(merge_fn, args, kwargs)\n",
      "  File \"c:\\Users\\mmm\\anaconda3\\lib\\site-packages\\tensorflow\\python\\distribute\\distribute_lib.py\", line 3472, in _merge_call\n",
      "    return merge_fn(self._strategy, *args, **kwargs)\n",
      "  File \"c:\\Users\\mmm\\anaconda3\\lib\\site-packages\\tensorflow\\python\\autograph\\impl\\api.py\", line 690, in wrapper\n",
      "    return converted_call(f, args, kwargs, options=options)\n",
      "  File \"c:\\Users\\mmm\\anaconda3\\lib\\site-packages\\tensorflow\\python\\autograph\\impl\\api.py\", line 377, in converted_call\n",
      "    return _call_unconverted(f, args, kwargs, options)\n",
      "  File \"c:\\Users\\mmm\\anaconda3\\lib\\site-packages\\tensorflow\\python\\autograph\\impl\\api.py\", line 459, in _call_unconverted\n",
      "    return f(*args, **kwargs)\n",
      "  File \"c:\\Users\\mmm\\anaconda3\\lib\\site-packages\\tensorflow\\python\\distribute\\distribute_lib.py\", line 2871, in merge_fn\n",
      "    return self.update(var, fn, merged_args, merged_kwargs, group=group)\n",
      "  File \"c:\\Users\\mmm\\anaconda3\\lib\\site-packages\\tensorflow\\python\\distribute\\distribute_lib.py\", line 2992, in update\n",
      "    return self._update(var, fn, args, kwargs, group)\n",
      "  File \"c:\\Users\\mmm\\anaconda3\\lib\\site-packages\\tensorflow\\python\\distribute\\distribute_lib.py\", line 4062, in _update\n",
      "    return self._update_non_slot(var, fn, (var,) + tuple(args), kwargs, group)\n",
      "  File \"c:\\Users\\mmm\\anaconda3\\lib\\site-packages\\tensorflow\\python\\distribute\\distribute_lib.py\", line 4068, in _update_non_slot\n",
      "    result = fn(*args, **kwargs)\n",
      "  File \"c:\\Users\\mmm\\anaconda3\\lib\\site-packages\\tensorflow\\python\\autograph\\impl\\api.py\", line 690, in wrapper\n",
      "    return converted_call(f, args, kwargs, options=options)\n",
      "  File \"c:\\Users\\mmm\\anaconda3\\lib\\site-packages\\tensorflow\\python\\autograph\\impl\\api.py\", line 331, in converted_call\n",
      "    return _call_unconverted(f, args, kwargs, options, False)\n",
      "  File \"c:\\Users\\mmm\\anaconda3\\lib\\site-packages\\tensorflow\\python\\autograph\\impl\\api.py\", line 459, in _call_unconverted\n",
      "    return f(*args, **kwargs)\n",
      "  File \"c:\\Users\\mmm\\anaconda3\\lib\\site-packages\\keras\\src\\optimizers\\optimizer.py\", line 1349, in apply_grad_to_update_var\n",
      "    return self._update_step(grad, var)\n",
      "  File \"c:\\Users\\mmm\\anaconda3\\lib\\site-packages\\keras\\src\\optimizers\\optimizer.py\", line 241, in _update_step\n",
      "    self.update_step(gradient, variable)\n",
      "  File \"c:\\Users\\mmm\\anaconda3\\lib\\site-packages\\keras\\src\\optimizers\\adam.py\", line 204, in update_step\n",
      "    variable.assign_sub((m * alpha) / (tf.sqrt(v) + self.epsilon))\n",
      "  File \"c:\\Users\\mmm\\anaconda3\\lib\\site-packages\\tensorflow\\python\\util\\traceback_utils.py\", line 150, in error_handler\n",
      "    return fn(*args, **kwargs)\n",
      "  File \"c:\\Users\\mmm\\anaconda3\\lib\\site-packages\\tensorflow\\python\\util\\dispatch.py\", line 1176, in op_dispatch_handler\n",
      "    return dispatch_target(*args, **kwargs)\n",
      "  File \"c:\\Users\\mmm\\anaconda3\\lib\\site-packages\\tensorflow\\python\\ops\\math_ops.py\", line 5512, in sqrt\n",
      "    return gen_math_ops.sqrt(x, name)\n",
      "  File \"c:\\Users\\mmm\\anaconda3\\lib\\site-packages\\tensorflow\\python\\ops\\gen_math_ops.py\", line 12493, in sqrt\n",
      "    _, _, _op, _outputs = _op_def_library._apply_op_helper(\n",
      "  File \"c:\\Users\\mmm\\anaconda3\\lib\\site-packages\\tensorflow\\python\\framework\\op_def_library.py\", line 795, in _apply_op_helper\n",
      "    op = g._create_op_internal(op_type_name, inputs, dtypes=None,\n",
      "  File \"c:\\Users\\mmm\\anaconda3\\lib\\site-packages\\tensorflow\\python\\framework\\func_graph.py\", line 670, in _create_op_internal\n",
      "    return super()._create_op_internal(  # pylint: disable=protected-access\n",
      "  File \"c:\\Users\\mmm\\anaconda3\\lib\\site-packages\\tensorflow\\python\\framework\\ops.py\", line 3381, in _create_op_internal\n",
      "    ret = Operation.from_node_def(\n",
      "  File \"c:\\Users\\mmm\\anaconda3\\lib\\site-packages\\tensorflow\\python\\framework\\ops.py\", line 1889, in from_node_def\n",
      "    c_op = _create_c_op(g, node_def, inputs, control_input_ops, op_def=op_def)\n",
      "  File \"c:\\Users\\mmm\\anaconda3\\lib\\site-packages\\tensorflow\\python\\util\\traceback_utils.py\", line 150, in error_handler\n",
      "    return fn(*args, **kwargs)\n",
      "  File \"c:\\Users\\mmm\\anaconda3\\lib\\site-packages\\tensorflow\\python\\framework\\ops.py\", line 1721, in _create_c_op\n",
      "    op_desc = pywrap_tf_session.TF_NewOperation(c_graph,\n",
      "KeyboardInterrupt\n",
      "[W 2023-09-21 11:53:49,487] Trial 0 failed with value None.\n"
     ]
    }
   ],
   "source": [
    "print(f\"Training the LSTM-CNN hybrid model.\")\n",
    "study = optuna.create_study(direction=\"maximize\")\n",
    "study.optimize(lstm_hybrid_run, n_trials=10)\n",
    "fig = optuna.visualization.plot_slice(study)\n",
    "fig.show()"
   ]
  },
  {
   "cell_type": "code",
   "execution_count": 10,
   "metadata": {},
   "outputs": [],
   "source": [
    "\"\"\"\n",
    "Hparams to optimize: \n",
    "num_hidden_layers = [1]\n",
    "num_units = [32, 64, 128]\n",
    "dropout_rates = [0.0, 0.1, 0.2]\n",
    "activation_functions = ['relu', 'tanh']\n",
    "learning_rates = [0.05, 0.1, 0.15]\n",
    "momentum_values = [0.0, 0.1, 0.5, 0.9]\n",
    "batch_sizes = [32, 64, 128]\n",
    "\"\"\"\n",
    "\n",
    "from tensorflow.keras.models import Sequential\n",
    "from tensorflow.keras.optimizers import Adam\n",
    "from tensorflow.keras.layers import LSTM, Dense, Dropout\n",
    "import optuna\n",
    "\n",
    "def objective(trial):\n",
    "    epochs = 5\n",
    "\n",
    "    # hyperparameter tuning\n",
    "    num_hidden = 1\n",
    "    num_nucleotides = trial.suggest_int(\"num_nucleotides\", 1, 7)\n",
    "    num_unit = trial.suggest_int(\"num_unit\", 32, 128)\n",
    "    dropout_rate = trial.suggest_float(\"dropout_rate\", 0.0, 0.2)\n",
    "    activation_function = trial.suggest_categorical(\"activation_function\", ['relu', 'tanh'])\n",
    "    learning_rate = trial.suggest_float(\"learning_rate\", 0.05, 0.15)\n",
    "    momentum = trial.suggest_float(\"momentum_values\", 0.0, 0.9)\n",
    "    batch_size = trial.suggest_int(\"batch_size\", 32, 128)\n",
    "    # num_hidden_layers = [1]\n",
    "    # num_units = [32, 64, 128]\n",
    "    # dropout_rates = [0.0, 0.1, 0.2]\n",
    "    # activation_functions = ['relu', 'tanh']\n",
    "    # learning_rates = [0.05, 0.1, 0.15]\n",
    "    # momentum_values = [0.0, 0.1, 0.5, 0.9]\n",
    "    # batch_sizes = [32, 64, 128]\n",
    "\n",
    "    # build train set\n",
    "    train_set = np.load('../data/ml_data/HG002_2_3_00_400k_train.npz')\n",
    "    val_set = np.load('../data/ml_data/HG002_2_3_00_400k_val.npz')\n",
    "    train_features, y_train = filter_set_by_base_quality(train_set)\n",
    "    train_features = set_num_nucleotides(train_features, num_nucleotides)\n",
    "    X_train = train_features.transpose((0, 2, 1))\n",
    "\n",
    "    # build val set    \n",
    "    val_features, y_val = filter_set_by_base_quality(val_set)\n",
    "    val_features = set_num_nucleotides(val_features, num_nucleotides)\n",
    "    X_val = val_features.transpose((0, 2, 1)) \n",
    "\n",
    "    # dynamically set input_shape for model\n",
    "    full_window = num_nucleotides * 2 + 1\n",
    "    input_shape = ((full_window), 5)  \n",
    "\n",
    "\n",
    "    model = Sequential()\n",
    "    for _ in range(num_hidden):\n",
    "        if _ == 0:\n",
    "            model.add(LSTM(num_unit, input_shape=input_shape, return_sequences=(num_hidden > 1)))\n",
    "        else:\n",
    "            model.add(LSTM(num_unit, return_sequences=(_ < num_hidden)))\n",
    "        model.add(Dropout(dropout_rate))\n",
    "\n",
    "    model.add(Dense(1, activation='sigmoid'))\n",
    "\n",
    "    optimizer = Adam(learning_rate=learning_rate, beta_1=momentum)\n",
    "    model.compile(loss='binary_crossentropy', optimizer=optimizer, metrics=['accuracy'])\n",
    "\n",
    "    for epoch in range(epochs):\n",
    "        history = model.fit(X_train, y_train, validation_data=(X_val, y_val), batch_size=batch_size, verbose=0)\n",
    "        val_accuracy = history.history['val_accuracy'][-1]\n",
    "\n",
    "        print(\n",
    "            f\"Epoch {epoch + 1}/{epochs}, \" \n",
    "            f\"Val Acc: {val_accuracy:.4f}\")\n",
    "    \n",
    "    return val_accuracy\n",
    "        # if val_accuracy > best_accuracy:\n",
    "        #         model_info = {\n",
    "        #             'model': model,\n",
    "        #             'val_accuracy': val_accuracy,\n",
    "        #             'hyperparameters': {\n",
    "        #                 'Hidden Layers': num_hidden,\n",
    "        #                 'Units': num_unit,\n",
    "        #                 'Dropout': dropout_rate,\n",
    "        #                 'Activation': activation_function,\n",
    "        #                 'Learning Rate': learning_rate,\n",
    "        #                 'Momentum': momentum,\n",
    "        #                 'Batch Size': batch_size\n",
    "        #             }\n",
    "        #         }\n",
    "        #         top_models_info.append(model_info)\n",
    "            \n"
   ]
  },
  {
   "cell_type": "code",
   "execution_count": 11,
   "metadata": {},
   "outputs": [
    {
     "name": "stderr",
     "output_type": "stream",
     "text": [
      "[I 2023-09-21 12:16:41,396] A new study created in memory with name: no-name-8183a1c0-4091-4967-a49a-f463a5f21794\n"
     ]
    },
    {
     "name": "stdout",
     "output_type": "stream",
     "text": [
      "Training the LSTM-CNN hybrid model.\n",
      "Epoch 1/5, Val Acc: 0.6675\n",
      "Epoch 2/5, Val Acc: 0.6507\n",
      "Epoch 3/5, Val Acc: 0.6558\n",
      "Epoch 4/5, Val Acc: 0.6734\n"
     ]
    },
    {
     "name": "stderr",
     "output_type": "stream",
     "text": [
      "[I 2023-09-21 12:19:02,532] Trial 0 finished with value: 0.44846463203430176 and parameters: {'num_nucleotides': 6, 'num_unit': 71, 'dropout_rate': 0.19606921742184083, 'activation_function': 'tanh', 'learning_rate': 0.12283255202157496, 'momentum_values': 0.0873671823944049, 'batch_size': 69}. Best is trial 0 with value: 0.44846463203430176.\n"
     ]
    },
    {
     "name": "stdout",
     "output_type": "stream",
     "text": [
      "Epoch 5/5, Val Acc: 0.4485\n",
      "Epoch 1/5, Val Acc: 0.6348\n",
      "Epoch 2/5, Val Acc: 0.6350\n",
      "Epoch 3/5, Val Acc: 0.6354\n",
      "Epoch 4/5, Val Acc: 0.6352\n"
     ]
    },
    {
     "name": "stderr",
     "output_type": "stream",
     "text": [
      "[I 2023-09-21 12:20:10,166] Trial 1 finished with value: 0.6345345973968506 and parameters: {'num_nucleotides': 2, 'num_unit': 42, 'dropout_rate': 0.12961859456463837, 'activation_function': 'relu', 'learning_rate': 0.059628786122183974, 'momentum_values': 0.1259470191293182, 'batch_size': 81}. Best is trial 1 with value: 0.6345345973968506.\n"
     ]
    },
    {
     "name": "stdout",
     "output_type": "stream",
     "text": [
      "Epoch 5/5, Val Acc: 0.6345\n",
      "Epoch 1/5, Val Acc: 0.5520\n",
      "Epoch 2/5, Val Acc: 0.6528\n",
      "Epoch 3/5, Val Acc: 0.4485\n",
      "Epoch 4/5, Val Acc: 0.5726\n"
     ]
    },
    {
     "name": "stderr",
     "output_type": "stream",
     "text": [
      "[I 2023-09-21 12:23:35,688] Trial 2 finished with value: 0.44848862290382385 and parameters: {'num_nucleotides': 6, 'num_unit': 79, 'dropout_rate': 0.08082566261212867, 'activation_function': 'tanh', 'learning_rate': 0.14803323126868423, 'momentum_values': 0.5696618897571414, 'batch_size': 68}. Best is trial 1 with value: 0.6345345973968506.\n"
     ]
    },
    {
     "name": "stdout",
     "output_type": "stream",
     "text": [
      "Epoch 5/5, Val Acc: 0.4485\n",
      "Epoch 1/5, Val Acc: 0.6840\n",
      "Epoch 2/5, Val Acc: 0.6814\n",
      "Epoch 3/5, Val Acc: 0.6549\n",
      "Epoch 4/5, Val Acc: 0.6798\n"
     ]
    },
    {
     "name": "stderr",
     "output_type": "stream",
     "text": [
      "[I 2023-09-21 12:28:58,416] Trial 3 finished with value: 0.6504525542259216 and parameters: {'num_nucleotides': 7, 'num_unit': 102, 'dropout_rate': 0.05139723858068071, 'activation_function': 'tanh', 'learning_rate': 0.08619968940653848, 'momentum_values': 0.46550197083747064, 'batch_size': 67}. Best is trial 3 with value: 0.6504525542259216.\n"
     ]
    },
    {
     "name": "stdout",
     "output_type": "stream",
     "text": [
      "Epoch 5/5, Val Acc: 0.6505\n",
      "Epoch 1/5, Val Acc: 0.6243\n",
      "Epoch 2/5, Val Acc: 0.6240\n",
      "Epoch 3/5, Val Acc: 0.6239\n",
      "Epoch 4/5, Val Acc: 0.6232\n"
     ]
    },
    {
     "name": "stderr",
     "output_type": "stream",
     "text": [
      "[I 2023-09-21 12:29:53,250] Trial 4 finished with value: 0.6230102777481079 and parameters: {'num_nucleotides': 1, 'num_unit': 50, 'dropout_rate': 0.048200551435453036, 'activation_function': 'tanh', 'learning_rate': 0.08835721346607256, 'momentum_values': 0.5449804479171821, 'batch_size': 128}. Best is trial 3 with value: 0.6504525542259216.\n"
     ]
    },
    {
     "name": "stdout",
     "output_type": "stream",
     "text": [
      "Epoch 5/5, Val Acc: 0.6230\n",
      "Epoch 1/5, Val Acc: 0.6450\n",
      "Epoch 2/5, Val Acc: 0.4485\n",
      "Epoch 3/5, Val Acc: 0.5879\n",
      "Epoch 4/5, Val Acc: 0.5821\n"
     ]
    },
    {
     "name": "stderr",
     "output_type": "stream",
     "text": [
      "[I 2023-09-21 12:34:55,064] Trial 5 finished with value: 0.45127367973327637 and parameters: {'num_nucleotides': 6, 'num_unit': 116, 'dropout_rate': 0.19314120274170113, 'activation_function': 'relu', 'learning_rate': 0.08787995946260105, 'momentum_values': 0.29943719320901824, 'batch_size': 56}. Best is trial 3 with value: 0.6504525542259216.\n"
     ]
    },
    {
     "name": "stdout",
     "output_type": "stream",
     "text": [
      "Epoch 5/5, Val Acc: 0.4513\n",
      "Epoch 1/5, Val Acc: 0.6839\n",
      "Epoch 2/5, Val Acc: 0.6850\n",
      "Epoch 3/5, Val Acc: 0.6593\n",
      "Epoch 4/5, Val Acc: 0.6729\n"
     ]
    },
    {
     "name": "stderr",
     "output_type": "stream",
     "text": [
      "[I 2023-09-21 12:38:01,496] Trial 6 finished with value: 0.6795035004615784 and parameters: {'num_nucleotides': 7, 'num_unit': 43, 'dropout_rate': 0.061032036369686175, 'activation_function': 'tanh', 'learning_rate': 0.12786706519673818, 'momentum_values': 0.6093418450790119, 'batch_size': 52}. Best is trial 6 with value: 0.6795035004615784.\n"
     ]
    },
    {
     "name": "stdout",
     "output_type": "stream",
     "text": [
      "Epoch 5/5, Val Acc: 0.6795\n",
      "Epoch 1/5, Val Acc: 0.4485\n",
      "Epoch 2/5, Val Acc: 0.5515\n",
      "Epoch 3/5, Val Acc: 0.4485\n",
      "Epoch 4/5, Val Acc: 0.5515\n"
     ]
    },
    {
     "name": "stderr",
     "output_type": "stream",
     "text": [
      "[I 2023-09-21 12:40:27,751] Trial 7 finished with value: 0.44848862290382385 and parameters: {'num_nucleotides': 3, 'num_unit': 115, 'dropout_rate': 0.031950165722858026, 'activation_function': 'tanh', 'learning_rate': 0.13522953379898509, 'momentum_values': 0.7864917224204658, 'batch_size': 109}. Best is trial 6 with value: 0.6795035004615784.\n"
     ]
    },
    {
     "name": "stdout",
     "output_type": "stream",
     "text": [
      "Epoch 5/5, Val Acc: 0.4485\n",
      "Epoch 1/5, Val Acc: 0.6460\n",
      "Epoch 2/5, Val Acc: 0.6470\n",
      "Epoch 3/5, Val Acc: 0.6435\n",
      "Epoch 4/5, Val Acc: 0.5515\n"
     ]
    },
    {
     "name": "stderr",
     "output_type": "stream",
     "text": [
      "[I 2023-09-21 12:43:12,940] Trial 8 finished with value: 0.6114619374275208 and parameters: {'num_nucleotides': 3, 'num_unit': 122, 'dropout_rate': 0.07603006096807197, 'activation_function': 'relu', 'learning_rate': 0.13386449526643612, 'momentum_values': 0.7327007311789797, 'batch_size': 89}. Best is trial 6 with value: 0.6795035004615784.\n"
     ]
    },
    {
     "name": "stdout",
     "output_type": "stream",
     "text": [
      "Epoch 5/5, Val Acc: 0.6115\n",
      "Epoch 1/5, Val Acc: 0.6845\n",
      "Epoch 2/5, Val Acc: 0.6815\n",
      "Epoch 3/5, Val Acc: 0.6842\n",
      "Epoch 4/5, Val Acc: 0.6848\n"
     ]
    },
    {
     "name": "stderr",
     "output_type": "stream",
     "text": [
      "[I 2023-09-21 12:45:31,434] Trial 9 finished with value: 0.6842572689056396 and parameters: {'num_nucleotides': 7, 'num_unit': 39, 'dropout_rate': 0.17692511579391315, 'activation_function': 'relu', 'learning_rate': 0.132139087064944, 'momentum_values': 0.42337716426124655, 'batch_size': 87}. Best is trial 9 with value: 0.6842572689056396.\n"
     ]
    },
    {
     "name": "stdout",
     "output_type": "stream",
     "text": [
      "Epoch 5/5, Val Acc: 0.6843\n"
     ]
    },
    {
     "data": {
      "application/vnd.plotly.v1+json": {
       "config": {
        "plotlyServerURL": "https://plot.ly"
       },
       "data": [
        {
         "marker": {
          "color": [
           0,
           1,
           2,
           3,
           4,
           5,
           6,
           7,
           8,
           9
          ],
          "colorbar": {
           "title": {
            "text": "Trial"
           },
           "x": 1,
           "xpad": 40
          },
          "colorscale": [
           [
            0,
            "rgb(247,251,255)"
           ],
           [
            0.125,
            "rgb(222,235,247)"
           ],
           [
            0.25,
            "rgb(198,219,239)"
           ],
           [
            0.375,
            "rgb(158,202,225)"
           ],
           [
            0.5,
            "rgb(107,174,214)"
           ],
           [
            0.625,
            "rgb(66,146,198)"
           ],
           [
            0.75,
            "rgb(33,113,181)"
           ],
           [
            0.875,
            "rgb(8,81,156)"
           ],
           [
            1,
            "rgb(8,48,107)"
           ]
          ],
          "line": {
           "color": "Grey",
           "width": 0.5
          },
          "showscale": true
         },
         "mode": "markers",
         "showlegend": false,
         "type": "scatter",
         "x": [
          "tanh",
          "relu",
          "tanh",
          "tanh",
          "tanh",
          "relu",
          "tanh",
          "tanh",
          "relu",
          "relu"
         ],
         "xaxis": "x",
         "y": [
          0.44846463203430176,
          0.6345345973968506,
          0.44848862290382385,
          0.6504525542259216,
          0.6230102777481079,
          0.45127367973327637,
          0.6795035004615784,
          0.44848862290382385,
          0.6114619374275208,
          0.6842572689056396
         ],
         "yaxis": "y"
        },
        {
         "marker": {
          "color": [
           0,
           1,
           2,
           3,
           4,
           5,
           6,
           7,
           8,
           9
          ],
          "colorbar": {
           "title": {
            "text": "Trial"
           },
           "x": 1,
           "xpad": 40
          },
          "colorscale": [
           [
            0,
            "rgb(247,251,255)"
           ],
           [
            0.125,
            "rgb(222,235,247)"
           ],
           [
            0.25,
            "rgb(198,219,239)"
           ],
           [
            0.375,
            "rgb(158,202,225)"
           ],
           [
            0.5,
            "rgb(107,174,214)"
           ],
           [
            0.625,
            "rgb(66,146,198)"
           ],
           [
            0.75,
            "rgb(33,113,181)"
           ],
           [
            0.875,
            "rgb(8,81,156)"
           ],
           [
            1,
            "rgb(8,48,107)"
           ]
          ],
          "line": {
           "color": "Grey",
           "width": 0.5
          },
          "showscale": false
         },
         "mode": "markers",
         "showlegend": false,
         "type": "scatter",
         "x": [
          69,
          81,
          68,
          67,
          128,
          56,
          52,
          109,
          89,
          87
         ],
         "xaxis": "x2",
         "y": [
          0.44846463203430176,
          0.6345345973968506,
          0.44848862290382385,
          0.6504525542259216,
          0.6230102777481079,
          0.45127367973327637,
          0.6795035004615784,
          0.44848862290382385,
          0.6114619374275208,
          0.6842572689056396
         ],
         "yaxis": "y2"
        },
        {
         "marker": {
          "color": [
           0,
           1,
           2,
           3,
           4,
           5,
           6,
           7,
           8,
           9
          ],
          "colorbar": {
           "title": {
            "text": "Trial"
           },
           "x": 1,
           "xpad": 40
          },
          "colorscale": [
           [
            0,
            "rgb(247,251,255)"
           ],
           [
            0.125,
            "rgb(222,235,247)"
           ],
           [
            0.25,
            "rgb(198,219,239)"
           ],
           [
            0.375,
            "rgb(158,202,225)"
           ],
           [
            0.5,
            "rgb(107,174,214)"
           ],
           [
            0.625,
            "rgb(66,146,198)"
           ],
           [
            0.75,
            "rgb(33,113,181)"
           ],
           [
            0.875,
            "rgb(8,81,156)"
           ],
           [
            1,
            "rgb(8,48,107)"
           ]
          ],
          "line": {
           "color": "Grey",
           "width": 0.5
          },
          "showscale": false
         },
         "mode": "markers",
         "showlegend": false,
         "type": "scatter",
         "x": [
          0.19606921742184083,
          0.12961859456463837,
          0.08082566261212867,
          0.05139723858068071,
          0.048200551435453036,
          0.19314120274170113,
          0.061032036369686175,
          0.031950165722858026,
          0.07603006096807197,
          0.17692511579391315
         ],
         "xaxis": "x3",
         "y": [
          0.44846463203430176,
          0.6345345973968506,
          0.44848862290382385,
          0.6504525542259216,
          0.6230102777481079,
          0.45127367973327637,
          0.6795035004615784,
          0.44848862290382385,
          0.6114619374275208,
          0.6842572689056396
         ],
         "yaxis": "y3"
        },
        {
         "marker": {
          "color": [
           0,
           1,
           2,
           3,
           4,
           5,
           6,
           7,
           8,
           9
          ],
          "colorbar": {
           "title": {
            "text": "Trial"
           },
           "x": 1,
           "xpad": 40
          },
          "colorscale": [
           [
            0,
            "rgb(247,251,255)"
           ],
           [
            0.125,
            "rgb(222,235,247)"
           ],
           [
            0.25,
            "rgb(198,219,239)"
           ],
           [
            0.375,
            "rgb(158,202,225)"
           ],
           [
            0.5,
            "rgb(107,174,214)"
           ],
           [
            0.625,
            "rgb(66,146,198)"
           ],
           [
            0.75,
            "rgb(33,113,181)"
           ],
           [
            0.875,
            "rgb(8,81,156)"
           ],
           [
            1,
            "rgb(8,48,107)"
           ]
          ],
          "line": {
           "color": "Grey",
           "width": 0.5
          },
          "showscale": false
         },
         "mode": "markers",
         "showlegend": false,
         "type": "scatter",
         "x": [
          0.12283255202157496,
          0.059628786122183974,
          0.14803323126868423,
          0.08619968940653848,
          0.08835721346607256,
          0.08787995946260105,
          0.12786706519673818,
          0.13522953379898509,
          0.13386449526643612,
          0.132139087064944
         ],
         "xaxis": "x4",
         "y": [
          0.44846463203430176,
          0.6345345973968506,
          0.44848862290382385,
          0.6504525542259216,
          0.6230102777481079,
          0.45127367973327637,
          0.6795035004615784,
          0.44848862290382385,
          0.6114619374275208,
          0.6842572689056396
         ],
         "yaxis": "y4"
        },
        {
         "marker": {
          "color": [
           0,
           1,
           2,
           3,
           4,
           5,
           6,
           7,
           8,
           9
          ],
          "colorbar": {
           "title": {
            "text": "Trial"
           },
           "x": 1,
           "xpad": 40
          },
          "colorscale": [
           [
            0,
            "rgb(247,251,255)"
           ],
           [
            0.125,
            "rgb(222,235,247)"
           ],
           [
            0.25,
            "rgb(198,219,239)"
           ],
           [
            0.375,
            "rgb(158,202,225)"
           ],
           [
            0.5,
            "rgb(107,174,214)"
           ],
           [
            0.625,
            "rgb(66,146,198)"
           ],
           [
            0.75,
            "rgb(33,113,181)"
           ],
           [
            0.875,
            "rgb(8,81,156)"
           ],
           [
            1,
            "rgb(8,48,107)"
           ]
          ],
          "line": {
           "color": "Grey",
           "width": 0.5
          },
          "showscale": false
         },
         "mode": "markers",
         "showlegend": false,
         "type": "scatter",
         "x": [
          0.0873671823944049,
          0.1259470191293182,
          0.5696618897571414,
          0.46550197083747064,
          0.5449804479171821,
          0.29943719320901824,
          0.6093418450790119,
          0.7864917224204658,
          0.7327007311789797,
          0.42337716426124655
         ],
         "xaxis": "x5",
         "y": [
          0.44846463203430176,
          0.6345345973968506,
          0.44848862290382385,
          0.6504525542259216,
          0.6230102777481079,
          0.45127367973327637,
          0.6795035004615784,
          0.44848862290382385,
          0.6114619374275208,
          0.6842572689056396
         ],
         "yaxis": "y5"
        },
        {
         "marker": {
          "color": [
           0,
           1,
           2,
           3,
           4,
           5,
           6,
           7,
           8,
           9
          ],
          "colorbar": {
           "title": {
            "text": "Trial"
           },
           "x": 1,
           "xpad": 40
          },
          "colorscale": [
           [
            0,
            "rgb(247,251,255)"
           ],
           [
            0.125,
            "rgb(222,235,247)"
           ],
           [
            0.25,
            "rgb(198,219,239)"
           ],
           [
            0.375,
            "rgb(158,202,225)"
           ],
           [
            0.5,
            "rgb(107,174,214)"
           ],
           [
            0.625,
            "rgb(66,146,198)"
           ],
           [
            0.75,
            "rgb(33,113,181)"
           ],
           [
            0.875,
            "rgb(8,81,156)"
           ],
           [
            1,
            "rgb(8,48,107)"
           ]
          ],
          "line": {
           "color": "Grey",
           "width": 0.5
          },
          "showscale": false
         },
         "mode": "markers",
         "showlegend": false,
         "type": "scatter",
         "x": [
          6,
          2,
          6,
          7,
          1,
          6,
          7,
          3,
          3,
          7
         ],
         "xaxis": "x6",
         "y": [
          0.44846463203430176,
          0.6345345973968506,
          0.44848862290382385,
          0.6504525542259216,
          0.6230102777481079,
          0.45127367973327637,
          0.6795035004615784,
          0.44848862290382385,
          0.6114619374275208,
          0.6842572689056396
         ],
         "yaxis": "y6"
        },
        {
         "marker": {
          "color": [
           0,
           1,
           2,
           3,
           4,
           5,
           6,
           7,
           8,
           9
          ],
          "colorbar": {
           "title": {
            "text": "Trial"
           },
           "x": 1,
           "xpad": 40
          },
          "colorscale": [
           [
            0,
            "rgb(247,251,255)"
           ],
           [
            0.125,
            "rgb(222,235,247)"
           ],
           [
            0.25,
            "rgb(198,219,239)"
           ],
           [
            0.375,
            "rgb(158,202,225)"
           ],
           [
            0.5,
            "rgb(107,174,214)"
           ],
           [
            0.625,
            "rgb(66,146,198)"
           ],
           [
            0.75,
            "rgb(33,113,181)"
           ],
           [
            0.875,
            "rgb(8,81,156)"
           ],
           [
            1,
            "rgb(8,48,107)"
           ]
          ],
          "line": {
           "color": "Grey",
           "width": 0.5
          },
          "showscale": false
         },
         "mode": "markers",
         "showlegend": false,
         "type": "scatter",
         "x": [
          71,
          42,
          79,
          102,
          50,
          116,
          43,
          115,
          122,
          39
         ],
         "xaxis": "x7",
         "y": [
          0.44846463203430176,
          0.6345345973968506,
          0.44848862290382385,
          0.6504525542259216,
          0.6230102777481079,
          0.45127367973327637,
          0.6795035004615784,
          0.44848862290382385,
          0.6114619374275208,
          0.6842572689056396
         ],
         "yaxis": "y7"
        }
       ],
       "layout": {
        "template": {
         "data": {
          "bar": [
           {
            "error_x": {
             "color": "#2a3f5f"
            },
            "error_y": {
             "color": "#2a3f5f"
            },
            "marker": {
             "line": {
              "color": "#E5ECF6",
              "width": 0.5
             },
             "pattern": {
              "fillmode": "overlay",
              "size": 10,
              "solidity": 0.2
             }
            },
            "type": "bar"
           }
          ],
          "barpolar": [
           {
            "marker": {
             "line": {
              "color": "#E5ECF6",
              "width": 0.5
             },
             "pattern": {
              "fillmode": "overlay",
              "size": 10,
              "solidity": 0.2
             }
            },
            "type": "barpolar"
           }
          ],
          "carpet": [
           {
            "aaxis": {
             "endlinecolor": "#2a3f5f",
             "gridcolor": "white",
             "linecolor": "white",
             "minorgridcolor": "white",
             "startlinecolor": "#2a3f5f"
            },
            "baxis": {
             "endlinecolor": "#2a3f5f",
             "gridcolor": "white",
             "linecolor": "white",
             "minorgridcolor": "white",
             "startlinecolor": "#2a3f5f"
            },
            "type": "carpet"
           }
          ],
          "choropleth": [
           {
            "colorbar": {
             "outlinewidth": 0,
             "ticks": ""
            },
            "type": "choropleth"
           }
          ],
          "contour": [
           {
            "colorbar": {
             "outlinewidth": 0,
             "ticks": ""
            },
            "colorscale": [
             [
              0,
              "#0d0887"
             ],
             [
              0.1111111111111111,
              "#46039f"
             ],
             [
              0.2222222222222222,
              "#7201a8"
             ],
             [
              0.3333333333333333,
              "#9c179e"
             ],
             [
              0.4444444444444444,
              "#bd3786"
             ],
             [
              0.5555555555555556,
              "#d8576b"
             ],
             [
              0.6666666666666666,
              "#ed7953"
             ],
             [
              0.7777777777777778,
              "#fb9f3a"
             ],
             [
              0.8888888888888888,
              "#fdca26"
             ],
             [
              1,
              "#f0f921"
             ]
            ],
            "type": "contour"
           }
          ],
          "contourcarpet": [
           {
            "colorbar": {
             "outlinewidth": 0,
             "ticks": ""
            },
            "type": "contourcarpet"
           }
          ],
          "heatmap": [
           {
            "colorbar": {
             "outlinewidth": 0,
             "ticks": ""
            },
            "colorscale": [
             [
              0,
              "#0d0887"
             ],
             [
              0.1111111111111111,
              "#46039f"
             ],
             [
              0.2222222222222222,
              "#7201a8"
             ],
             [
              0.3333333333333333,
              "#9c179e"
             ],
             [
              0.4444444444444444,
              "#bd3786"
             ],
             [
              0.5555555555555556,
              "#d8576b"
             ],
             [
              0.6666666666666666,
              "#ed7953"
             ],
             [
              0.7777777777777778,
              "#fb9f3a"
             ],
             [
              0.8888888888888888,
              "#fdca26"
             ],
             [
              1,
              "#f0f921"
             ]
            ],
            "type": "heatmap"
           }
          ],
          "heatmapgl": [
           {
            "colorbar": {
             "outlinewidth": 0,
             "ticks": ""
            },
            "colorscale": [
             [
              0,
              "#0d0887"
             ],
             [
              0.1111111111111111,
              "#46039f"
             ],
             [
              0.2222222222222222,
              "#7201a8"
             ],
             [
              0.3333333333333333,
              "#9c179e"
             ],
             [
              0.4444444444444444,
              "#bd3786"
             ],
             [
              0.5555555555555556,
              "#d8576b"
             ],
             [
              0.6666666666666666,
              "#ed7953"
             ],
             [
              0.7777777777777778,
              "#fb9f3a"
             ],
             [
              0.8888888888888888,
              "#fdca26"
             ],
             [
              1,
              "#f0f921"
             ]
            ],
            "type": "heatmapgl"
           }
          ],
          "histogram": [
           {
            "marker": {
             "pattern": {
              "fillmode": "overlay",
              "size": 10,
              "solidity": 0.2
             }
            },
            "type": "histogram"
           }
          ],
          "histogram2d": [
           {
            "colorbar": {
             "outlinewidth": 0,
             "ticks": ""
            },
            "colorscale": [
             [
              0,
              "#0d0887"
             ],
             [
              0.1111111111111111,
              "#46039f"
             ],
             [
              0.2222222222222222,
              "#7201a8"
             ],
             [
              0.3333333333333333,
              "#9c179e"
             ],
             [
              0.4444444444444444,
              "#bd3786"
             ],
             [
              0.5555555555555556,
              "#d8576b"
             ],
             [
              0.6666666666666666,
              "#ed7953"
             ],
             [
              0.7777777777777778,
              "#fb9f3a"
             ],
             [
              0.8888888888888888,
              "#fdca26"
             ],
             [
              1,
              "#f0f921"
             ]
            ],
            "type": "histogram2d"
           }
          ],
          "histogram2dcontour": [
           {
            "colorbar": {
             "outlinewidth": 0,
             "ticks": ""
            },
            "colorscale": [
             [
              0,
              "#0d0887"
             ],
             [
              0.1111111111111111,
              "#46039f"
             ],
             [
              0.2222222222222222,
              "#7201a8"
             ],
             [
              0.3333333333333333,
              "#9c179e"
             ],
             [
              0.4444444444444444,
              "#bd3786"
             ],
             [
              0.5555555555555556,
              "#d8576b"
             ],
             [
              0.6666666666666666,
              "#ed7953"
             ],
             [
              0.7777777777777778,
              "#fb9f3a"
             ],
             [
              0.8888888888888888,
              "#fdca26"
             ],
             [
              1,
              "#f0f921"
             ]
            ],
            "type": "histogram2dcontour"
           }
          ],
          "mesh3d": [
           {
            "colorbar": {
             "outlinewidth": 0,
             "ticks": ""
            },
            "type": "mesh3d"
           }
          ],
          "parcoords": [
           {
            "line": {
             "colorbar": {
              "outlinewidth": 0,
              "ticks": ""
             }
            },
            "type": "parcoords"
           }
          ],
          "pie": [
           {
            "automargin": true,
            "type": "pie"
           }
          ],
          "scatter": [
           {
            "fillpattern": {
             "fillmode": "overlay",
             "size": 10,
             "solidity": 0.2
            },
            "type": "scatter"
           }
          ],
          "scatter3d": [
           {
            "line": {
             "colorbar": {
              "outlinewidth": 0,
              "ticks": ""
             }
            },
            "marker": {
             "colorbar": {
              "outlinewidth": 0,
              "ticks": ""
             }
            },
            "type": "scatter3d"
           }
          ],
          "scattercarpet": [
           {
            "marker": {
             "colorbar": {
              "outlinewidth": 0,
              "ticks": ""
             }
            },
            "type": "scattercarpet"
           }
          ],
          "scattergeo": [
           {
            "marker": {
             "colorbar": {
              "outlinewidth": 0,
              "ticks": ""
             }
            },
            "type": "scattergeo"
           }
          ],
          "scattergl": [
           {
            "marker": {
             "colorbar": {
              "outlinewidth": 0,
              "ticks": ""
             }
            },
            "type": "scattergl"
           }
          ],
          "scattermapbox": [
           {
            "marker": {
             "colorbar": {
              "outlinewidth": 0,
              "ticks": ""
             }
            },
            "type": "scattermapbox"
           }
          ],
          "scatterpolar": [
           {
            "marker": {
             "colorbar": {
              "outlinewidth": 0,
              "ticks": ""
             }
            },
            "type": "scatterpolar"
           }
          ],
          "scatterpolargl": [
           {
            "marker": {
             "colorbar": {
              "outlinewidth": 0,
              "ticks": ""
             }
            },
            "type": "scatterpolargl"
           }
          ],
          "scatterternary": [
           {
            "marker": {
             "colorbar": {
              "outlinewidth": 0,
              "ticks": ""
             }
            },
            "type": "scatterternary"
           }
          ],
          "surface": [
           {
            "colorbar": {
             "outlinewidth": 0,
             "ticks": ""
            },
            "colorscale": [
             [
              0,
              "#0d0887"
             ],
             [
              0.1111111111111111,
              "#46039f"
             ],
             [
              0.2222222222222222,
              "#7201a8"
             ],
             [
              0.3333333333333333,
              "#9c179e"
             ],
             [
              0.4444444444444444,
              "#bd3786"
             ],
             [
              0.5555555555555556,
              "#d8576b"
             ],
             [
              0.6666666666666666,
              "#ed7953"
             ],
             [
              0.7777777777777778,
              "#fb9f3a"
             ],
             [
              0.8888888888888888,
              "#fdca26"
             ],
             [
              1,
              "#f0f921"
             ]
            ],
            "type": "surface"
           }
          ],
          "table": [
           {
            "cells": {
             "fill": {
              "color": "#EBF0F8"
             },
             "line": {
              "color": "white"
             }
            },
            "header": {
             "fill": {
              "color": "#C8D4E3"
             },
             "line": {
              "color": "white"
             }
            },
            "type": "table"
           }
          ]
         },
         "layout": {
          "annotationdefaults": {
           "arrowcolor": "#2a3f5f",
           "arrowhead": 0,
           "arrowwidth": 1
          },
          "autotypenumbers": "strict",
          "coloraxis": {
           "colorbar": {
            "outlinewidth": 0,
            "ticks": ""
           }
          },
          "colorscale": {
           "diverging": [
            [
             0,
             "#8e0152"
            ],
            [
             0.1,
             "#c51b7d"
            ],
            [
             0.2,
             "#de77ae"
            ],
            [
             0.3,
             "#f1b6da"
            ],
            [
             0.4,
             "#fde0ef"
            ],
            [
             0.5,
             "#f7f7f7"
            ],
            [
             0.6,
             "#e6f5d0"
            ],
            [
             0.7,
             "#b8e186"
            ],
            [
             0.8,
             "#7fbc41"
            ],
            [
             0.9,
             "#4d9221"
            ],
            [
             1,
             "#276419"
            ]
           ],
           "sequential": [
            [
             0,
             "#0d0887"
            ],
            [
             0.1111111111111111,
             "#46039f"
            ],
            [
             0.2222222222222222,
             "#7201a8"
            ],
            [
             0.3333333333333333,
             "#9c179e"
            ],
            [
             0.4444444444444444,
             "#bd3786"
            ],
            [
             0.5555555555555556,
             "#d8576b"
            ],
            [
             0.6666666666666666,
             "#ed7953"
            ],
            [
             0.7777777777777778,
             "#fb9f3a"
            ],
            [
             0.8888888888888888,
             "#fdca26"
            ],
            [
             1,
             "#f0f921"
            ]
           ],
           "sequentialminus": [
            [
             0,
             "#0d0887"
            ],
            [
             0.1111111111111111,
             "#46039f"
            ],
            [
             0.2222222222222222,
             "#7201a8"
            ],
            [
             0.3333333333333333,
             "#9c179e"
            ],
            [
             0.4444444444444444,
             "#bd3786"
            ],
            [
             0.5555555555555556,
             "#d8576b"
            ],
            [
             0.6666666666666666,
             "#ed7953"
            ],
            [
             0.7777777777777778,
             "#fb9f3a"
            ],
            [
             0.8888888888888888,
             "#fdca26"
            ],
            [
             1,
             "#f0f921"
            ]
           ]
          },
          "colorway": [
           "#636efa",
           "#EF553B",
           "#00cc96",
           "#ab63fa",
           "#FFA15A",
           "#19d3f3",
           "#FF6692",
           "#B6E880",
           "#FF97FF",
           "#FECB52"
          ],
          "font": {
           "color": "#2a3f5f"
          },
          "geo": {
           "bgcolor": "white",
           "lakecolor": "white",
           "landcolor": "#E5ECF6",
           "showlakes": true,
           "showland": true,
           "subunitcolor": "white"
          },
          "hoverlabel": {
           "align": "left"
          },
          "hovermode": "closest",
          "mapbox": {
           "style": "light"
          },
          "paper_bgcolor": "white",
          "plot_bgcolor": "#E5ECF6",
          "polar": {
           "angularaxis": {
            "gridcolor": "white",
            "linecolor": "white",
            "ticks": ""
           },
           "bgcolor": "#E5ECF6",
           "radialaxis": {
            "gridcolor": "white",
            "linecolor": "white",
            "ticks": ""
           }
          },
          "scene": {
           "xaxis": {
            "backgroundcolor": "#E5ECF6",
            "gridcolor": "white",
            "gridwidth": 2,
            "linecolor": "white",
            "showbackground": true,
            "ticks": "",
            "zerolinecolor": "white"
           },
           "yaxis": {
            "backgroundcolor": "#E5ECF6",
            "gridcolor": "white",
            "gridwidth": 2,
            "linecolor": "white",
            "showbackground": true,
            "ticks": "",
            "zerolinecolor": "white"
           },
           "zaxis": {
            "backgroundcolor": "#E5ECF6",
            "gridcolor": "white",
            "gridwidth": 2,
            "linecolor": "white",
            "showbackground": true,
            "ticks": "",
            "zerolinecolor": "white"
           }
          },
          "shapedefaults": {
           "line": {
            "color": "#2a3f5f"
           }
          },
          "ternary": {
           "aaxis": {
            "gridcolor": "white",
            "linecolor": "white",
            "ticks": ""
           },
           "baxis": {
            "gridcolor": "white",
            "linecolor": "white",
            "ticks": ""
           },
           "bgcolor": "#E5ECF6",
           "caxis": {
            "gridcolor": "white",
            "linecolor": "white",
            "ticks": ""
           }
          },
          "title": {
           "x": 0.05
          },
          "xaxis": {
           "automargin": true,
           "gridcolor": "white",
           "linecolor": "white",
           "ticks": "",
           "title": {
            "standoff": 15
           },
           "zerolinecolor": "white",
           "zerolinewidth": 2
          },
          "yaxis": {
           "automargin": true,
           "gridcolor": "white",
           "linecolor": "white",
           "ticks": "",
           "title": {
            "standoff": 15
           },
           "zerolinecolor": "white",
           "zerolinewidth": 2
          }
         }
        },
        "title": {
         "text": "Slice Plot"
        },
        "width": 2100,
        "xaxis": {
         "anchor": "y",
         "categoryarray": [
          "relu",
          "tanh"
         ],
         "categoryorder": "array",
         "domain": [
          0,
          0.1183673469387755
         ],
         "title": {
          "text": "activation_function"
         },
         "type": "category"
        },
        "xaxis2": {
         "anchor": "y2",
         "domain": [
          0.14693877551020407,
          0.26530612244897955
         ],
         "title": {
          "text": "batch_size"
         }
        },
        "xaxis3": {
         "anchor": "y3",
         "domain": [
          0.29387755102040813,
          0.4122448979591836
         ],
         "title": {
          "text": "dropout_rate"
         }
        },
        "xaxis4": {
         "anchor": "y4",
         "domain": [
          0.4408163265306122,
          0.5591836734693877
         ],
         "title": {
          "text": "learning_rate"
         }
        },
        "xaxis5": {
         "anchor": "y5",
         "domain": [
          0.5877551020408163,
          0.7061224489795918
         ],
         "title": {
          "text": "momentum_values"
         }
        },
        "xaxis6": {
         "anchor": "y6",
         "domain": [
          0.7346938775510204,
          0.8530612244897959
         ],
         "title": {
          "text": "num_nucleotides"
         }
        },
        "xaxis7": {
         "anchor": "y7",
         "domain": [
          0.8816326530612244,
          0.9999999999999999
         ],
         "title": {
          "text": "num_unit"
         }
        },
        "yaxis": {
         "anchor": "x",
         "domain": [
          0,
          1
         ],
         "title": {
          "text": "Objective Value"
         }
        },
        "yaxis2": {
         "anchor": "x2",
         "domain": [
          0,
          1
         ],
         "matches": "y",
         "showticklabels": false
        },
        "yaxis3": {
         "anchor": "x3",
         "domain": [
          0,
          1
         ],
         "matches": "y",
         "showticklabels": false
        },
        "yaxis4": {
         "anchor": "x4",
         "domain": [
          0,
          1
         ],
         "matches": "y",
         "showticklabels": false
        },
        "yaxis5": {
         "anchor": "x5",
         "domain": [
          0,
          1
         ],
         "matches": "y",
         "showticklabels": false
        },
        "yaxis6": {
         "anchor": "x6",
         "domain": [
          0,
          1
         ],
         "matches": "y",
         "showticklabels": false
        },
        "yaxis7": {
         "anchor": "x7",
         "domain": [
          0,
          1
         ],
         "matches": "y",
         "showticklabels": false
        }
       }
      }
     },
     "metadata": {},
     "output_type": "display_data"
    }
   ],
   "source": [
    "print(f\"Training the LSTM-CNN hybrid model.\")\n",
    "study = optuna.create_study(direction=\"maximize\")\n",
    "study.optimize(objective, n_trials=10)\n",
    "fig = optuna.visualization.plot_slice(study)\n",
    "fig.show()"
   ]
  },
  {
   "cell_type": "code",
   "execution_count": 12,
   "metadata": {},
   "outputs": [
    {
     "data": {
      "application/vnd.plotly.v1+json": {
       "config": {
        "plotlyServerURL": "https://plot.ly"
       },
       "data": [
        {
         "cliponaxis": false,
         "hovertemplate": [
          "activation_function (CategoricalDistribution): 0.028173942793155375<extra></extra>",
          "momentum_values (FloatDistribution): 0.045848253331419<extra></extra>",
          "batch_size (IntDistribution): 0.060779963891187484<extra></extra>",
          "dropout_rate (FloatDistribution): 0.1179681177384588<extra></extra>",
          "num_nucleotides (IntDistribution): 0.1607413697497204<extra></extra>",
          "learning_rate (FloatDistribution): 0.17873659060453342<extra></extra>",
          "num_unit (IntDistribution): 0.4077517618915256<extra></extra>"
         ],
         "marker": {
          "color": "rgb(66,146,198)"
         },
         "orientation": "h",
         "text": [
          "0.03",
          "0.05",
          "0.06",
          "0.12",
          "0.16",
          "0.18",
          "0.41"
         ],
         "textposition": "outside",
         "type": "bar",
         "x": [
          0.028173942793155375,
          0.045848253331419,
          0.060779963891187484,
          0.1179681177384588,
          0.1607413697497204,
          0.17873659060453342,
          0.4077517618915256
         ],
         "y": [
          "activation_function",
          "momentum_values",
          "batch_size",
          "dropout_rate",
          "num_nucleotides",
          "learning_rate",
          "num_unit"
         ]
        }
       ],
       "layout": {
        "showlegend": false,
        "template": {
         "data": {
          "bar": [
           {
            "error_x": {
             "color": "#2a3f5f"
            },
            "error_y": {
             "color": "#2a3f5f"
            },
            "marker": {
             "line": {
              "color": "#E5ECF6",
              "width": 0.5
             },
             "pattern": {
              "fillmode": "overlay",
              "size": 10,
              "solidity": 0.2
             }
            },
            "type": "bar"
           }
          ],
          "barpolar": [
           {
            "marker": {
             "line": {
              "color": "#E5ECF6",
              "width": 0.5
             },
             "pattern": {
              "fillmode": "overlay",
              "size": 10,
              "solidity": 0.2
             }
            },
            "type": "barpolar"
           }
          ],
          "carpet": [
           {
            "aaxis": {
             "endlinecolor": "#2a3f5f",
             "gridcolor": "white",
             "linecolor": "white",
             "minorgridcolor": "white",
             "startlinecolor": "#2a3f5f"
            },
            "baxis": {
             "endlinecolor": "#2a3f5f",
             "gridcolor": "white",
             "linecolor": "white",
             "minorgridcolor": "white",
             "startlinecolor": "#2a3f5f"
            },
            "type": "carpet"
           }
          ],
          "choropleth": [
           {
            "colorbar": {
             "outlinewidth": 0,
             "ticks": ""
            },
            "type": "choropleth"
           }
          ],
          "contour": [
           {
            "colorbar": {
             "outlinewidth": 0,
             "ticks": ""
            },
            "colorscale": [
             [
              0,
              "#0d0887"
             ],
             [
              0.1111111111111111,
              "#46039f"
             ],
             [
              0.2222222222222222,
              "#7201a8"
             ],
             [
              0.3333333333333333,
              "#9c179e"
             ],
             [
              0.4444444444444444,
              "#bd3786"
             ],
             [
              0.5555555555555556,
              "#d8576b"
             ],
             [
              0.6666666666666666,
              "#ed7953"
             ],
             [
              0.7777777777777778,
              "#fb9f3a"
             ],
             [
              0.8888888888888888,
              "#fdca26"
             ],
             [
              1,
              "#f0f921"
             ]
            ],
            "type": "contour"
           }
          ],
          "contourcarpet": [
           {
            "colorbar": {
             "outlinewidth": 0,
             "ticks": ""
            },
            "type": "contourcarpet"
           }
          ],
          "heatmap": [
           {
            "colorbar": {
             "outlinewidth": 0,
             "ticks": ""
            },
            "colorscale": [
             [
              0,
              "#0d0887"
             ],
             [
              0.1111111111111111,
              "#46039f"
             ],
             [
              0.2222222222222222,
              "#7201a8"
             ],
             [
              0.3333333333333333,
              "#9c179e"
             ],
             [
              0.4444444444444444,
              "#bd3786"
             ],
             [
              0.5555555555555556,
              "#d8576b"
             ],
             [
              0.6666666666666666,
              "#ed7953"
             ],
             [
              0.7777777777777778,
              "#fb9f3a"
             ],
             [
              0.8888888888888888,
              "#fdca26"
             ],
             [
              1,
              "#f0f921"
             ]
            ],
            "type": "heatmap"
           }
          ],
          "heatmapgl": [
           {
            "colorbar": {
             "outlinewidth": 0,
             "ticks": ""
            },
            "colorscale": [
             [
              0,
              "#0d0887"
             ],
             [
              0.1111111111111111,
              "#46039f"
             ],
             [
              0.2222222222222222,
              "#7201a8"
             ],
             [
              0.3333333333333333,
              "#9c179e"
             ],
             [
              0.4444444444444444,
              "#bd3786"
             ],
             [
              0.5555555555555556,
              "#d8576b"
             ],
             [
              0.6666666666666666,
              "#ed7953"
             ],
             [
              0.7777777777777778,
              "#fb9f3a"
             ],
             [
              0.8888888888888888,
              "#fdca26"
             ],
             [
              1,
              "#f0f921"
             ]
            ],
            "type": "heatmapgl"
           }
          ],
          "histogram": [
           {
            "marker": {
             "pattern": {
              "fillmode": "overlay",
              "size": 10,
              "solidity": 0.2
             }
            },
            "type": "histogram"
           }
          ],
          "histogram2d": [
           {
            "colorbar": {
             "outlinewidth": 0,
             "ticks": ""
            },
            "colorscale": [
             [
              0,
              "#0d0887"
             ],
             [
              0.1111111111111111,
              "#46039f"
             ],
             [
              0.2222222222222222,
              "#7201a8"
             ],
             [
              0.3333333333333333,
              "#9c179e"
             ],
             [
              0.4444444444444444,
              "#bd3786"
             ],
             [
              0.5555555555555556,
              "#d8576b"
             ],
             [
              0.6666666666666666,
              "#ed7953"
             ],
             [
              0.7777777777777778,
              "#fb9f3a"
             ],
             [
              0.8888888888888888,
              "#fdca26"
             ],
             [
              1,
              "#f0f921"
             ]
            ],
            "type": "histogram2d"
           }
          ],
          "histogram2dcontour": [
           {
            "colorbar": {
             "outlinewidth": 0,
             "ticks": ""
            },
            "colorscale": [
             [
              0,
              "#0d0887"
             ],
             [
              0.1111111111111111,
              "#46039f"
             ],
             [
              0.2222222222222222,
              "#7201a8"
             ],
             [
              0.3333333333333333,
              "#9c179e"
             ],
             [
              0.4444444444444444,
              "#bd3786"
             ],
             [
              0.5555555555555556,
              "#d8576b"
             ],
             [
              0.6666666666666666,
              "#ed7953"
             ],
             [
              0.7777777777777778,
              "#fb9f3a"
             ],
             [
              0.8888888888888888,
              "#fdca26"
             ],
             [
              1,
              "#f0f921"
             ]
            ],
            "type": "histogram2dcontour"
           }
          ],
          "mesh3d": [
           {
            "colorbar": {
             "outlinewidth": 0,
             "ticks": ""
            },
            "type": "mesh3d"
           }
          ],
          "parcoords": [
           {
            "line": {
             "colorbar": {
              "outlinewidth": 0,
              "ticks": ""
             }
            },
            "type": "parcoords"
           }
          ],
          "pie": [
           {
            "automargin": true,
            "type": "pie"
           }
          ],
          "scatter": [
           {
            "fillpattern": {
             "fillmode": "overlay",
             "size": 10,
             "solidity": 0.2
            },
            "type": "scatter"
           }
          ],
          "scatter3d": [
           {
            "line": {
             "colorbar": {
              "outlinewidth": 0,
              "ticks": ""
             }
            },
            "marker": {
             "colorbar": {
              "outlinewidth": 0,
              "ticks": ""
             }
            },
            "type": "scatter3d"
           }
          ],
          "scattercarpet": [
           {
            "marker": {
             "colorbar": {
              "outlinewidth": 0,
              "ticks": ""
             }
            },
            "type": "scattercarpet"
           }
          ],
          "scattergeo": [
           {
            "marker": {
             "colorbar": {
              "outlinewidth": 0,
              "ticks": ""
             }
            },
            "type": "scattergeo"
           }
          ],
          "scattergl": [
           {
            "marker": {
             "colorbar": {
              "outlinewidth": 0,
              "ticks": ""
             }
            },
            "type": "scattergl"
           }
          ],
          "scattermapbox": [
           {
            "marker": {
             "colorbar": {
              "outlinewidth": 0,
              "ticks": ""
             }
            },
            "type": "scattermapbox"
           }
          ],
          "scatterpolar": [
           {
            "marker": {
             "colorbar": {
              "outlinewidth": 0,
              "ticks": ""
             }
            },
            "type": "scatterpolar"
           }
          ],
          "scatterpolargl": [
           {
            "marker": {
             "colorbar": {
              "outlinewidth": 0,
              "ticks": ""
             }
            },
            "type": "scatterpolargl"
           }
          ],
          "scatterternary": [
           {
            "marker": {
             "colorbar": {
              "outlinewidth": 0,
              "ticks": ""
             }
            },
            "type": "scatterternary"
           }
          ],
          "surface": [
           {
            "colorbar": {
             "outlinewidth": 0,
             "ticks": ""
            },
            "colorscale": [
             [
              0,
              "#0d0887"
             ],
             [
              0.1111111111111111,
              "#46039f"
             ],
             [
              0.2222222222222222,
              "#7201a8"
             ],
             [
              0.3333333333333333,
              "#9c179e"
             ],
             [
              0.4444444444444444,
              "#bd3786"
             ],
             [
              0.5555555555555556,
              "#d8576b"
             ],
             [
              0.6666666666666666,
              "#ed7953"
             ],
             [
              0.7777777777777778,
              "#fb9f3a"
             ],
             [
              0.8888888888888888,
              "#fdca26"
             ],
             [
              1,
              "#f0f921"
             ]
            ],
            "type": "surface"
           }
          ],
          "table": [
           {
            "cells": {
             "fill": {
              "color": "#EBF0F8"
             },
             "line": {
              "color": "white"
             }
            },
            "header": {
             "fill": {
              "color": "#C8D4E3"
             },
             "line": {
              "color": "white"
             }
            },
            "type": "table"
           }
          ]
         },
         "layout": {
          "annotationdefaults": {
           "arrowcolor": "#2a3f5f",
           "arrowhead": 0,
           "arrowwidth": 1
          },
          "autotypenumbers": "strict",
          "coloraxis": {
           "colorbar": {
            "outlinewidth": 0,
            "ticks": ""
           }
          },
          "colorscale": {
           "diverging": [
            [
             0,
             "#8e0152"
            ],
            [
             0.1,
             "#c51b7d"
            ],
            [
             0.2,
             "#de77ae"
            ],
            [
             0.3,
             "#f1b6da"
            ],
            [
             0.4,
             "#fde0ef"
            ],
            [
             0.5,
             "#f7f7f7"
            ],
            [
             0.6,
             "#e6f5d0"
            ],
            [
             0.7,
             "#b8e186"
            ],
            [
             0.8,
             "#7fbc41"
            ],
            [
             0.9,
             "#4d9221"
            ],
            [
             1,
             "#276419"
            ]
           ],
           "sequential": [
            [
             0,
             "#0d0887"
            ],
            [
             0.1111111111111111,
             "#46039f"
            ],
            [
             0.2222222222222222,
             "#7201a8"
            ],
            [
             0.3333333333333333,
             "#9c179e"
            ],
            [
             0.4444444444444444,
             "#bd3786"
            ],
            [
             0.5555555555555556,
             "#d8576b"
            ],
            [
             0.6666666666666666,
             "#ed7953"
            ],
            [
             0.7777777777777778,
             "#fb9f3a"
            ],
            [
             0.8888888888888888,
             "#fdca26"
            ],
            [
             1,
             "#f0f921"
            ]
           ],
           "sequentialminus": [
            [
             0,
             "#0d0887"
            ],
            [
             0.1111111111111111,
             "#46039f"
            ],
            [
             0.2222222222222222,
             "#7201a8"
            ],
            [
             0.3333333333333333,
             "#9c179e"
            ],
            [
             0.4444444444444444,
             "#bd3786"
            ],
            [
             0.5555555555555556,
             "#d8576b"
            ],
            [
             0.6666666666666666,
             "#ed7953"
            ],
            [
             0.7777777777777778,
             "#fb9f3a"
            ],
            [
             0.8888888888888888,
             "#fdca26"
            ],
            [
             1,
             "#f0f921"
            ]
           ]
          },
          "colorway": [
           "#636efa",
           "#EF553B",
           "#00cc96",
           "#ab63fa",
           "#FFA15A",
           "#19d3f3",
           "#FF6692",
           "#B6E880",
           "#FF97FF",
           "#FECB52"
          ],
          "font": {
           "color": "#2a3f5f"
          },
          "geo": {
           "bgcolor": "white",
           "lakecolor": "white",
           "landcolor": "#E5ECF6",
           "showlakes": true,
           "showland": true,
           "subunitcolor": "white"
          },
          "hoverlabel": {
           "align": "left"
          },
          "hovermode": "closest",
          "mapbox": {
           "style": "light"
          },
          "paper_bgcolor": "white",
          "plot_bgcolor": "#E5ECF6",
          "polar": {
           "angularaxis": {
            "gridcolor": "white",
            "linecolor": "white",
            "ticks": ""
           },
           "bgcolor": "#E5ECF6",
           "radialaxis": {
            "gridcolor": "white",
            "linecolor": "white",
            "ticks": ""
           }
          },
          "scene": {
           "xaxis": {
            "backgroundcolor": "#E5ECF6",
            "gridcolor": "white",
            "gridwidth": 2,
            "linecolor": "white",
            "showbackground": true,
            "ticks": "",
            "zerolinecolor": "white"
           },
           "yaxis": {
            "backgroundcolor": "#E5ECF6",
            "gridcolor": "white",
            "gridwidth": 2,
            "linecolor": "white",
            "showbackground": true,
            "ticks": "",
            "zerolinecolor": "white"
           },
           "zaxis": {
            "backgroundcolor": "#E5ECF6",
            "gridcolor": "white",
            "gridwidth": 2,
            "linecolor": "white",
            "showbackground": true,
            "ticks": "",
            "zerolinecolor": "white"
           }
          },
          "shapedefaults": {
           "line": {
            "color": "#2a3f5f"
           }
          },
          "ternary": {
           "aaxis": {
            "gridcolor": "white",
            "linecolor": "white",
            "ticks": ""
           },
           "baxis": {
            "gridcolor": "white",
            "linecolor": "white",
            "ticks": ""
           },
           "bgcolor": "#E5ECF6",
           "caxis": {
            "gridcolor": "white",
            "linecolor": "white",
            "ticks": ""
           }
          },
          "title": {
           "x": 0.05
          },
          "xaxis": {
           "automargin": true,
           "gridcolor": "white",
           "linecolor": "white",
           "ticks": "",
           "title": {
            "standoff": 15
           },
           "zerolinecolor": "white",
           "zerolinewidth": 2
          },
          "yaxis": {
           "automargin": true,
           "gridcolor": "white",
           "linecolor": "white",
           "ticks": "",
           "title": {
            "standoff": 15
           },
           "zerolinecolor": "white",
           "zerolinewidth": 2
          }
         }
        },
        "title": {
         "text": "Hyperparameter Importances"
        },
        "xaxis": {
         "title": {
          "text": "Importance for Objective Value"
         }
        },
        "yaxis": {
         "title": {
          "text": "Hyperparameter"
         }
        }
       }
      }
     },
     "metadata": {},
     "output_type": "display_data"
    }
   ],
   "source": [
    "fig = optuna.visualization.plot_param_importances(study)\n",
    "fig.show()"
   ]
  },
  {
   "cell_type": "code",
   "execution_count": 31,
   "metadata": {},
   "outputs": [
    {
     "name": "stdout",
     "output_type": "stream",
     "text": [
      "Best trial\n",
      "accuracy: 0.6842572689056396\n"
     ]
    },
    {
     "data": {
      "text/plain": [
       "{'num_nucleotides': 7,\n",
       " 'num_unit': 39,\n",
       " 'dropout_rate': 0.17692511579391315,\n",
       " 'activation_function': 'relu',\n",
       " 'learning_rate': 0.132139087064944,\n",
       " 'momentum_values': 0.42337716426124655,\n",
       " 'batch_size': 87}"
      ]
     },
     "execution_count": 31,
     "metadata": {},
     "output_type": "execute_result"
    }
   ],
   "source": [
    "print('Best trial')\n",
    "print(f\"accuracy: {study.best_trial.value}\")\n",
    "study.best_trial.params"
   ]
  }
 ],
 "metadata": {
  "kernelspec": {
   "display_name": "base",
   "language": "python",
   "name": "python3"
  },
  "language_info": {
   "codemirror_mode": {
    "name": "ipython",
    "version": 3
   },
   "file_extension": ".py",
   "mimetype": "text/x-python",
   "name": "python",
   "nbconvert_exporter": "python",
   "pygments_lexer": "ipython3",
   "version": "3.10.9"
  },
  "orig_nbformat": 4
 },
 "nbformat": 4,
 "nbformat_minor": 2
}
