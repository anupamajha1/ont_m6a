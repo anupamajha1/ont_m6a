{
 "cells": [
  {
   "cell_type": "code",
   "execution_count": 2,
   "metadata": {},
   "outputs": [
    {
     "data": {
      "text/plain": [
       "['features', 'labels', 'read_ids']"
      ]
     },
     "execution_count": 2,
     "metadata": {},
     "output_type": "execute_result"
    }
   ],
   "source": [
    "import numpy as np; \n",
    "\n",
    "train_set = np.load(\"../data/ml_data/HG002_2_3_00_400k_train.npz\")\n",
    "test_set = np.load(\"../data/ml_data/HG002_2_3_00_400k_test.npz\")\n",
    "\n",
    "train_set.files\n",
    "test_set.files"
   ]
  },
  {
   "cell_type": "code",
   "execution_count": 3,
   "metadata": {},
   "outputs": [
    {
     "name": "stdout",
     "output_type": "stream",
     "text": [
      "163831\n",
      "True\n",
      "(163831, 5, 15)\n"
     ]
    }
   ],
   "source": [
    "# features: 256000 input matrices with dim 6x15 \n",
    "# features per base: (0)A, (1)C, (2)G, (3)T, (4)base call qscore, (5)m6a call qscore\n",
    "\n",
    "# vectorized approach\n",
    "def filter_set_by_base_quality(data, quality_threshold=0.05, drop_base_quality=True):\n",
    "    features = data['features']\n",
    "    labels = data['labels']\n",
    "\n",
    "    above_threshold_mask = features[:, 4, 7] > quality_threshold\n",
    "    all_above_threshold_features = features[above_threshold_mask]\n",
    "\n",
    "    all_above_threshold_indices = np.where(above_threshold_mask)[0]\n",
    "\n",
    "    # instead of using base call qscore as an input, we remove entries with scores below threshold\n",
    "    if drop_base_quality:\n",
    "        mask = np.arange(features.shape[1]) != 4\n",
    "        all_above_threshold_features = all_above_threshold_features[:, mask, :]\n",
    "\n",
    "    \n",
    "    print(len(all_above_threshold_indices))\n",
    "    \n",
    "    # only keep the labels of entries with above-threshold scores\n",
    "    all_above_threshold_labels = labels[all_above_threshold_indices]\n",
    "\n",
    "    return all_above_threshold_features, all_above_threshold_labels\n",
    "\n",
    "filtered_features, filtered_labels = filter_set_by_base_quality(train_set)\n",
    "print(len(filtered_features) == len(filtered_labels))\n",
    "print(filtered_features.shape)"
   ]
  },
  {
   "cell_type": "code",
   "execution_count": null,
   "metadata": {},
   "outputs": [],
   "source": []
  }
 ],
 "metadata": {
  "kernelspec": {
   "display_name": "base",
   "language": "python",
   "name": "python3"
  },
  "language_info": {
   "codemirror_mode": {
    "name": "ipython",
    "version": 3
   },
   "file_extension": ".py",
   "mimetype": "text/x-python",
   "name": "python",
   "nbconvert_exporter": "python",
   "pygments_lexer": "ipython3",
   "version": "3.10.9"
  },
  "orig_nbformat": 4
 },
 "nbformat": 4,
 "nbformat_minor": 2
}
